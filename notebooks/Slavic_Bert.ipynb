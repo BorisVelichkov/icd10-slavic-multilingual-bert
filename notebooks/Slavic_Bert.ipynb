{
  "nbformat": 4,
  "nbformat_minor": 0,
  "metadata": {
    "colab": {
      "name": "Slavic_Bert.ipynb",
      "provenance": [],
      "collapsed_sections": []
    },
    "kernelspec": {
      "name": "python3",
      "display_name": "Python 3"
    },
    "accelerator": "GPU"
  },
  "cells": [
    {
      "cell_type": "code",
      "metadata": {
        "id": "IfCQeT64MlUk",
        "colab_type": "code",
        "colab": {}
      },
      "source": [
        "# install simpletransformers\n",
        "!pip install simpletransformers \n",
        "\n",
        "# check installed version\n",
        "!pip freeze | grep simpletransformers"
      ],
      "execution_count": null,
      "outputs": []
    },
    {
      "cell_type": "code",
      "metadata": {
        "id": "rklYF08cM04D",
        "colab_type": "code",
        "colab": {}
      },
      "source": [
        "import pandas as pd\n",
        "from sklearn.preprocessing import LabelEncoder\n",
        "from sklearn.model_selection import train_test_split\n",
        "from pandas import DataFrame\n",
        "import numpy as np"
      ],
      "execution_count": null,
      "outputs": []
    },
    {
      "cell_type": "code",
      "metadata": {
        "id": "nQE4PVrpNEm3",
        "colab_type": "code",
        "colab": {}
      },
      "source": [
        "USE_COLAB = True\n",
        "BASE_PATH = \"/content/drive/My Drive/DiagnosisToCode/data/\""
      ],
      "execution_count": null,
      "outputs": []
    },
    {
      "cell_type": "code",
      "metadata": {
        "id": "Ygl2dEyANSrB",
        "colab_type": "code",
        "colab": {}
      },
      "source": [
        "if USE_COLAB:\n",
        "    from google.colab import drive\n",
        "    drive.mount('/content/drive', force_remount=True)"
      ],
      "execution_count": null,
      "outputs": []
    },
    {
      "cell_type": "code",
      "metadata": {
        "id": "lrKgcyDSOjun",
        "colab_type": "code",
        "colab": {}
      },
      "source": [
        "train_file = '{0}diseases_train.csv'.format(BASE_PATH)\n",
        "test_file = '{0}diseases_test.csv'.format(BASE_PATH)\n",
        "dev_file = '{0}diseases_cross_validation.csv'.format(BASE_PATH)"
      ],
      "execution_count": null,
      "outputs": []
    },
    {
      "cell_type": "code",
      "metadata": {
        "id": "fa27Rgm6OmJo",
        "colab_type": "code",
        "colab": {}
      },
      "source": [
        "train_df = pd.read_csv(train_file, header=None)\n",
        "train_df.head()"
      ],
      "execution_count": null,
      "outputs": []
    },
    {
      "cell_type": "code",
      "metadata": {
        "id": "L5WTA9qOOpQo",
        "colab_type": "code",
        "colab": {}
      },
      "source": [
        "train_df.shape"
      ],
      "execution_count": null,
      "outputs": []
    },
    {
      "cell_type": "code",
      "metadata": {
        "id": "Eht2wSybOxRG",
        "colab_type": "code",
        "colab": {}
      },
      "source": [
        "test_df = pd.read_csv(test_file, header=None)\n",
        "test_df.head()"
      ],
      "execution_count": null,
      "outputs": []
    },
    {
      "cell_type": "code",
      "metadata": {
        "id": "-Ehm6ufEO0em",
        "colab_type": "code",
        "colab": {}
      },
      "source": [
        "test_df.shape"
      ],
      "execution_count": null,
      "outputs": []
    },
    {
      "cell_type": "code",
      "metadata": {
        "id": "D-kRJkp41K_E",
        "colab_type": "code",
        "colab": {}
      },
      "source": [
        "dev_df = pd.read_csv(dev_file)\n",
        "dev_df.head()"
      ],
      "execution_count": null,
      "outputs": []
    },
    {
      "cell_type": "code",
      "metadata": {
        "id": "AbIXjXSA1Mex",
        "colab_type": "code",
        "colab": {}
      },
      "source": [
        "dev_df.shape"
      ],
      "execution_count": null,
      "outputs": []
    },
    {
      "cell_type": "code",
      "metadata": {
        "id": "rHMmUkBnO2g0",
        "colab_type": "code",
        "colab": {}
      },
      "source": [
        "import logging\n",
        "\n",
        "from simpletransformers.language_modeling import (\n",
        "    LanguageModelingModel\n",
        ")\n",
        "\n",
        "logging.basicConfig(level=logging.INFO)\n",
        "transformers_logger = logging.getLogger(\"transformers\")\n",
        "transformers_logger.setLevel(logging.WARNING)\n",
        "\n",
        "slavic_bert_dir = \"/content/drive/My Drive/DiagnosisToCode/SlavicBert\"\n",
        "output_dir = slavic_bert_dir + \"/output\"\n",
        "best_model_dir = output_dir + \"/best_model\"\n",
        "cache_dir = slavic_bert_dir + \"/cache\"\n",
        "\n",
        "model_args = {\n",
        "     \"output_dir\": output_dir,\n",
        "     \"overwrite_output_dir\": True,\n",
        "     \"best_model_dir\": best_model_dir,\n",
        "     \"cache_dir\": cache_dir,\n",
        "     \"reprocess_input_data\": True,\n",
        "     \"overwrite_output_dir\": True,\n",
        "     \"show_running_loss\": True,\n",
        "     \"sliding_window\": True,\n",
        "     \"fp16\": False,\n",
        "     \"use_cuda\": True,\n",
        "     \"dataset_type\": \"simple\",\n",
        "     \"batch_size\": 8,\n",
        "     \"num_train_epochs\": 8,\n",
        "     \"save_model_every_epoch\": True,\n",
        "     \"save_steps\": 0,\n",
        "     \"evaluate_during_training\": True,\n",
        "     \"evaluate_during_training_verbose\": True,\n",
        "     \"evaluate_during_training_silent\": False,\n",
        "     \"early_stopping_metric_minimize\": True,\n",
        "     \"early_stopping_metric\": 'perplexity',\n",
        "     \"early_stopping_patience\": 3,\n",
        "     \"early_stopping_delta\": 0.01,\n",
        "     \"use_early_stopping\": True,\n",
        "     \"evaluate_during_training_steps\": 0,\n",
        "     \"early_stopping_consider_epochs\": True\n",
        "}\n",
        "\n",
        "model = LanguageModelingModel(\n",
        "    \"bert\", best_model_dir, args=model_args, use_cuda=True\n",
        ")\n",
        "\n",
        "# Train the model\n",
        "model.train_model(train_file=train_file, eval_file=dev_file, show_running_loss=True, verbose=True)"
      ],
      "execution_count": null,
      "outputs": []
    },
    {
      "cell_type": "code",
      "metadata": {
        "id": "VmnwmePRW2vw",
        "colab_type": "code",
        "colab": {}
      },
      "source": [
        "# Evaluate the model\n",
        "result = model.eval_model(eval_file=test_file)"
      ],
      "execution_count": null,
      "outputs": []
    },
    {
      "cell_type": "code",
      "metadata": {
        "id": "aEzZAIBxPFcd",
        "colab_type": "code",
        "colab": {}
      },
      "source": [
        "result"
      ],
      "execution_count": null,
      "outputs": []
    }
  ]
}