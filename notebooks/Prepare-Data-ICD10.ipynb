{
 "cells": [
  {
   "cell_type": "markdown",
   "metadata": {},
   "source": [
    "# Configuration"
   ]
  },
  {
   "cell_type": "code",
   "execution_count": 1,
   "metadata": {},
   "outputs": [],
   "source": [
    "USE_COLAB=False"
   ]
  },
  {
   "cell_type": "code",
   "execution_count": 2,
   "metadata": {
    "colab": {
     "base_uri": "https://localhost:8080/",
     "height": 34
    },
    "colab_type": "code",
    "executionInfo": {
     "elapsed": 1187,
     "status": "ok",
     "timestamp": 1593209666013,
     "user": {
      "displayName": "Sylvia Vassileva",
      "photoUrl": "https://lh3.googleusercontent.com/a-/AOh14GhWuuQVwWdtTS1dFYuVP6TvBWkYX4dTELYnzKEZ0g=s64",
      "userId": "18356117093765644087"
     },
     "user_tz": -180
    },
    "id": "9gUn91XhO4mf",
    "outputId": "b976048a-60e2-4863-9bf1-4a66bb6aea93"
   },
   "outputs": [],
   "source": [
    "if USE_COLAB:\n",
    "    from google.colab import drive\n",
    "    drive.mount('/content/gdrive')"
   ]
  },
  {
   "cell_type": "code",
   "execution_count": 3,
   "metadata": {
    "colab": {},
    "colab_type": "code",
    "executionInfo": {
     "elapsed": 604,
     "status": "ok",
     "timestamp": 1593209763750,
     "user": {
      "displayName": "Sylvia Vassileva",
      "photoUrl": "https://lh3.googleusercontent.com/a-/AOh14GhWuuQVwWdtTS1dFYuVP6TvBWkYX4dTELYnzKEZ0g=s64",
      "userId": "18356117093765644087"
     },
     "user_tz": -180
    },
    "id": "k44ok6vborQ2"
   },
   "outputs": [],
   "source": [
    "BASE_PATH = '..\\\\data\\\\'\n",
    "ORIGINAL_BASE_PATH = '..\\\\data\\\\original\\\\'\n",
    "DIR_SEPARATOR = '\\\\' # /\n",
    "\n",
    "ICD10_BG_4SIGN = 'ICD10_bg_4sign.csv'\n",
    "#ICD10_BG_3SIGN = 'ICD10_bg_3sign.csv'\n",
    "ICD10_ALL_4SIGN = 'ICD10_4sign.csv'\n",
    "#ICD10_ALL_3SIGN = 'ICD10_all_3sign.csv'\n",
    "\n",
    "LABEL_COLUMN = 'ICD10'\n",
    "TEXT_COLUMN = 'Text'\n",
    "PRED_CLASS = 'pred_class'"
   ]
  },
  {
   "cell_type": "markdown",
   "metadata": {},
   "source": [
    "# Create Classes Files"
   ]
  },
  {
   "cell_type": "code",
   "execution_count": 4,
   "metadata": {
    "colab": {},
    "colab_type": "code",
    "executionInfo": {
     "elapsed": 1070,
     "status": "ok",
     "timestamp": 1593209671528,
     "user": {
      "displayName": "Sylvia Vassileva",
      "photoUrl": "https://lh3.googleusercontent.com/a-/AOh14GhWuuQVwWdtTS1dFYuVP6TvBWkYX4dTELYnzKEZ0g=s64",
      "userId": "18356117093765644087"
     },
     "user_tz": -180
    },
    "id": "vwlDOr7K1RhY"
   },
   "outputs": [],
   "source": [
    "import pandas as pd\n",
    "from sklearn.preprocessing import LabelEncoder\n",
    "from sklearn.model_selection import train_test_split\n",
    "from pandas import DataFrame\n",
    "import numpy as np"
   ]
  },
  {
   "cell_type": "code",
   "execution_count": 5,
   "metadata": {
    "colab": {
     "base_uri": "https://localhost:8080/",
     "height": 204
    },
    "colab_type": "code",
    "executionInfo": {
     "elapsed": 1799,
     "status": "ok",
     "timestamp": 1593105778704,
     "user": {
      "displayName": "Sylvia Vassileva",
      "photoUrl": "https://lh3.googleusercontent.com/a-/AOh14GhWuuQVwWdtTS1dFYuVP6TvBWkYX4dTELYnzKEZ0g=s64",
      "userId": "18356117093765644087"
     },
     "user_tz": -180
    },
    "id": "QWM8i8MFonlm",
    "outputId": "f336f73a-80a0-4d3f-95e4-638149aba57b"
   },
   "outputs": [
    {
     "data": {
      "text/html": [
       "<div>\n",
       "<style scoped>\n",
       "    .dataframe tbody tr th:only-of-type {\n",
       "        vertical-align: middle;\n",
       "    }\n",
       "\n",
       "    .dataframe tbody tr th {\n",
       "        vertical-align: top;\n",
       "    }\n",
       "\n",
       "    .dataframe thead th {\n",
       "        text-align: right;\n",
       "    }\n",
       "</style>\n",
       "<table border=\"1\" class=\"dataframe\">\n",
       "  <thead>\n",
       "    <tr style=\"text-align: right;\">\n",
       "      <th></th>\n",
       "      <th>ICD10</th>\n",
       "      <th>Text</th>\n",
       "    </tr>\n",
       "  </thead>\n",
       "  <tbody>\n",
       "    <tr>\n",
       "      <th>0</th>\n",
       "      <td>A00</td>\n",
       "      <td>Холера</td>\n",
       "    </tr>\n",
       "    <tr>\n",
       "      <th>1</th>\n",
       "      <td>A00.0</td>\n",
       "      <td>Холера, предизвикана от холерен вибрион 01, би...</td>\n",
       "    </tr>\n",
       "    <tr>\n",
       "      <th>2</th>\n",
       "      <td>A00.1</td>\n",
       "      <td>Холера, предизвикана от холерен вибрион 01, би...</td>\n",
       "    </tr>\n",
       "    <tr>\n",
       "      <th>3</th>\n",
       "      <td>A00.9</td>\n",
       "      <td>Холера, неуточнена</td>\n",
       "    </tr>\n",
       "    <tr>\n",
       "      <th>4</th>\n",
       "      <td>A01</td>\n",
       "      <td>Тиф и паратиф</td>\n",
       "    </tr>\n",
       "  </tbody>\n",
       "</table>\n",
       "</div>"
      ],
      "text/plain": [
       "   ICD10                                               Text\n",
       "0    A00                                             Холера\n",
       "1  A00.0  Холера, предизвикана от холерен вибрион 01, би...\n",
       "2  A00.1  Холера, предизвикана от холерен вибрион 01, би...\n",
       "3  A00.9                                 Холера, неуточнена\n",
       "4    A01                                      Тиф и паратиф"
      ]
     },
     "execution_count": 5,
     "metadata": {},
     "output_type": "execute_result"
    }
   ],
   "source": [
    "df_icd10 = pd.read_csv('{0}{1}'.format(ORIGINAL_BASE_PATH, ICD10_BG_4SIGN), header=None)\n",
    "df_icd10.columns = [LABEL_COLUMN, TEXT_COLUMN]\n",
    "df_icd10.head()"
   ]
  },
  {
   "cell_type": "code",
   "execution_count": 6,
   "metadata": {
    "colab": {},
    "colab_type": "code",
    "id": "CHq7XO_rQMDk"
   },
   "outputs": [],
   "source": [
    "# todo: reuse Boris' notebook\n",
    "def standardize_code(x, digits = 3, vocab = None):\n",
    "  code = fix_code(x);\n",
    "  code = code[0:digits]\n",
    "    \n",
    "  return code"
   ]
  },
  {
   "cell_type": "code",
   "execution_count": 7,
   "metadata": {
    "colab": {},
    "colab_type": "code",
    "id": "VXaeCkDIsWjt"
   },
   "outputs": [],
   "source": [
    "def fix_code(x):\n",
    "  code = str(x).upper().replace(r'\\n',' ');\n",
    "  code = code.replace('СЪЕДИНЕНИЕ ', '') \\\n",
    "  .replace('А','A') \\\n",
    "  .replace('Б','B') \\\n",
    "  .replace('В','B') \\\n",
    "  .replace('Е','E') \\\n",
    "  .replace('К','K') \\\n",
    "  .replace('М','M') \\\n",
    "  .replace('О','O') \\\n",
    "  .replace('Р','P') \\\n",
    "  .replace('Т','T') \\\n",
    "  .replace(' ','') \\\n",
    "  .replace('*','') \\\n",
    "  .replace('.-','') \\\n",
    "  .replace('+', '')\n",
    "  \n",
    "  return code"
   ]
  },
  {
   "cell_type": "code",
   "execution_count": 8,
   "metadata": {
    "colab": {
     "base_uri": "https://localhost:8080/",
     "height": 34
    },
    "colab_type": "code",
    "executionInfo": {
     "elapsed": 1141,
     "status": "ok",
     "timestamp": 1593105803686,
     "user": {
      "displayName": "Sylvia Vassileva",
      "photoUrl": "https://lh3.googleusercontent.com/a-/AOh14GhWuuQVwWdtTS1dFYuVP6TvBWkYX4dTELYnzKEZ0g=s64",
      "userId": "18356117093765644087"
     },
     "user_tz": -180
    },
    "id": "M6UDVNP2f4nu",
    "outputId": "0a44f22d-79dc-4665-9d45-da34cf4df8d8"
   },
   "outputs": [
    {
     "data": {
      "text/plain": [
       "'A71.1'"
      ]
     },
     "execution_count": 8,
     "metadata": {},
     "output_type": "execute_result"
    }
   ],
   "source": [
    "standardize_code('Съединение А71.1', digits=5)"
   ]
  },
  {
   "cell_type": "code",
   "execution_count": 9,
   "metadata": {
    "colab": {},
    "colab_type": "code",
    "id": "FSMVPQ0gqFpz"
   },
   "outputs": [],
   "source": [
    "classes_4sign = pd.DataFrame({\n",
    "            LABEL_COLUMN:df_icd10[LABEL_COLUMN].apply(lambda x: standardize_code(x, 5))\n",
    "            })"
   ]
  },
  {
   "cell_type": "code",
   "execution_count": 10,
   "metadata": {
    "colab": {
     "base_uri": "https://localhost:8080/",
     "height": 34
    },
    "colab_type": "code",
    "executionInfo": {
     "elapsed": 571,
     "status": "ok",
     "timestamp": 1593105807497,
     "user": {
      "displayName": "Sylvia Vassileva",
      "photoUrl": "https://lh3.googleusercontent.com/a-/AOh14GhWuuQVwWdtTS1dFYuVP6TvBWkYX4dTELYnzKEZ0g=s64",
      "userId": "18356117093765644087"
     },
     "user_tz": -180
    },
    "id": "8s5Sh6SuvBI4",
    "outputId": "bfed75bc-27bd-49ea-f2b9-96da35a4277b"
   },
   "outputs": [
    {
     "data": {
      "text/plain": [
       "(10971, 1)"
      ]
     },
     "execution_count": 10,
     "metadata": {},
     "output_type": "execute_result"
    }
   ],
   "source": [
    "classes_4sign.shape"
   ]
  },
  {
   "cell_type": "code",
   "execution_count": 11,
   "metadata": {
    "colab": {},
    "colab_type": "code",
    "id": "GTdji3JBqpmn"
   },
   "outputs": [],
   "source": [
    "classes_4sign.to_csv('{0}classes-4.csv'.format(BASE_PATH), sep=',', index=False, header=False)"
   ]
  },
  {
   "cell_type": "code",
   "execution_count": 12,
   "metadata": {
    "colab": {
     "base_uri": "https://localhost:8080/",
     "height": 34
    },
    "colab_type": "code",
    "executionInfo": {
     "elapsed": 949,
     "status": "ok",
     "timestamp": 1593014199358,
     "user": {
      "displayName": "Sylvia Vassileva",
      "photoUrl": "https://lh3.googleusercontent.com/a-/AOh14GhWuuQVwWdtTS1dFYuVP6TvBWkYX4dTELYnzKEZ0g=s64",
      "userId": "18356117093765644087"
     },
     "user_tz": -180
    },
    "id": "wRswpcwialww",
    "outputId": "bdb02542-f0bd-4c14-c419-37c038c5e02d"
   },
   "outputs": [],
   "source": [
    "classes_3sign = pd.DataFrame({\n",
    "            LABEL_COLUMN:df_icd10[LABEL_COLUMN].apply(lambda x: standardize_code(x, 3))\n",
    "            })"
   ]
  },
  {
   "cell_type": "code",
   "execution_count": 13,
   "metadata": {},
   "outputs": [
    {
     "data": {
      "text/plain": [
       "(2035, 1)"
      ]
     },
     "execution_count": 13,
     "metadata": {},
     "output_type": "execute_result"
    }
   ],
   "source": [
    "classes_3sign.drop_duplicates(inplace=True)\n",
    "classes_3sign.shape"
   ]
  },
  {
   "cell_type": "code",
   "execution_count": 14,
   "metadata": {
    "colab": {},
    "colab_type": "code",
    "id": "z_UtIL35asvf"
   },
   "outputs": [],
   "source": [
    "classes_3sign.to_csv('{0}classes-3.csv'.format(BASE_PATH), sep=',', index=False, header=False)"
   ]
  },
  {
   "cell_type": "markdown",
   "metadata": {},
   "source": [
    "# Load Dataset, apply stemming and stop words"
   ]
  },
  {
   "cell_type": "code",
   "execution_count": 15,
   "metadata": {},
   "outputs": [],
   "source": [
    "import os\n",
    "from os import path"
   ]
  },
  {
   "cell_type": "code",
   "execution_count": 16,
   "metadata": {
    "colab": {},
    "colab_type": "code",
    "executionInfo": {
     "elapsed": 1438,
     "status": "ok",
     "timestamp": 1593209899497,
     "user": {
      "displayName": "Sylvia Vassileva",
      "photoUrl": "https://lh3.googleusercontent.com/a-/AOh14GhWuuQVwWdtTS1dFYuVP6TvBWkYX4dTELYnzKEZ0g=s64",
      "userId": "18356117093765644087"
     },
     "user_tz": -180
    },
    "id": "ZxiVv_e4i_gV"
   },
   "outputs": [],
   "source": [
    "file_name = '{0}{1}'.format(ORIGINAL_BASE_PATH, ICD10_ALL_4SIGN)\n",
    "df_4sign = pd.read_csv(file_name)"
   ]
  },
  {
   "cell_type": "code",
   "execution_count": 17,
   "metadata": {},
   "outputs": [],
   "source": [
    "original_workding_dir = os.getcwd()"
   ]
  },
  {
   "cell_type": "code",
   "execution_count": 18,
   "metadata": {
    "colab": {
     "base_uri": "https://localhost:8080/",
     "height": 374
    },
    "colab_type": "code",
    "executionInfo": {
     "elapsed": 5724,
     "status": "ok",
     "timestamp": 1593209917435,
     "user": {
      "displayName": "Sylvia Vassileva",
      "photoUrl": "https://lh3.googleusercontent.com/a-/AOh14GhWuuQVwWdtTS1dFYuVP6TvBWkYX4dTELYnzKEZ0g=s64",
      "userId": "18356117093765644087"
     },
     "user_tz": -180
    },
    "id": "E7D-gqL-envS",
    "outputId": "8e69f420-994f-45b4-cd75-649a5ff48f09"
   },
   "outputs": [
    {
     "name": "stdout",
     "output_type": "stream",
     "text": [
      "Processing c:\\users\\sylvia\\documents\\work\\projects\\slavic-multilingual-bert\\notebooks\\bulstem-py\n",
      "Requirement already satisfied: nltk in c:\\users\\sylvia\\anaconda3\\lib\\site-packages (from bulstem-py==0.2.0) (3.4.5)\n",
      "Requirement already satisfied: importlib_resources in c:\\users\\sylvia\\anaconda3\\lib\\site-packages (from bulstem-py==0.2.0) (3.0.0)\n",
      "Requirement already satisfied: six in c:\\users\\sylvia\\anaconda3\\lib\\site-packages (from nltk->bulstem-py==0.2.0) (1.14.0)\n",
      "Requirement already satisfied: zipp>=0.4; python_version < \"3.8\" in c:\\users\\sylvia\\anaconda3\\lib\\site-packages (from importlib_resources->bulstem-py==0.2.0) (2.2.0)\n",
      "Building wheels for collected packages: bulstem-py\n",
      "  Building wheel for bulstem-py (setup.py): started\n",
      "  Building wheel for bulstem-py (setup.py): finished with status 'done'\n",
      "  Created wheel for bulstem-py: filename=bulstem_py-0.2.0-py3-none-any.whl size=828548 sha256=7384988dbd1ef3d2d7103cc36fdc49ef50c4a4db56acb696981622ff59447ca6\n",
      "  Stored in directory: c:\\users\\sylvia\\appdata\\local\\pip\\cache\\wheels\\6d\\42\\bf\\db10044fc194e652f47c33832ecf53edf71c3c74fc1c320314\n",
      "Successfully built bulstem-py\n",
      "Installing collected packages: bulstem-py\n",
      "  Attempting uninstall: bulstem-py\n",
      "    Found existing installation: bulstem-py 0.2.0\n",
      "    Uninstalling bulstem-py-0.2.0:\n",
      "      Successfully uninstalled bulstem-py-0.2.0\n",
      "Successfully installed bulstem-py-0.2.0\n"
     ]
    }
   ],
   "source": [
    "bulstem_py_dir = '{0}{1}bulstem-py'.format(original_workding_dir, DIR_SEPARATOR)\n",
    "if not(path.exists(bulstem_py_dir)):\n",
    "  os.chdir(original_workding_dir)\n",
    "  !git clone https://github.com/mhardalov/bulstem-py.git\n",
    "  !git pull\n",
    "\n",
    "os.chdir(bulstem_py_dir)\n",
    "\n",
    "!pip install .\n",
    "\n",
    "os.chdir(original_workding_dir)"
   ]
  },
  {
   "cell_type": "code",
   "execution_count": 19,
   "metadata": {
    "colab": {},
    "colab_type": "code",
    "executionInfo": {
     "elapsed": 2862,
     "status": "ok",
     "timestamp": 1593209917805,
     "user": {
      "displayName": "Sylvia Vassileva",
      "photoUrl": "https://lh3.googleusercontent.com/a-/AOh14GhWuuQVwWdtTS1dFYuVP6TvBWkYX4dTELYnzKEZ0g=s64",
      "userId": "18356117093765644087"
     },
     "user_tz": -180
    },
    "id": "fYKK5Fucf9Tt"
   },
   "outputs": [],
   "source": [
    "from bulstem.stem import BulStemmer\n",
    "stemmer = BulStemmer.from_file('stem-context-2', min_freq=2, left_context=1)"
   ]
  },
  {
   "cell_type": "code",
   "execution_count": 20,
   "metadata": {
    "colab": {
     "base_uri": "https://localhost:8080/",
     "height": 34
    },
    "colab_type": "code",
    "executionInfo": {
     "elapsed": 626,
     "status": "ok",
     "timestamp": 1593105829251,
     "user": {
      "displayName": "Sylvia Vassileva",
      "photoUrl": "https://lh3.googleusercontent.com/a-/AOh14GhWuuQVwWdtTS1dFYuVP6TvBWkYX4dTELYnzKEZ0g=s64",
      "userId": "18356117093765644087"
     },
     "user_tz": -180
    },
    "id": "8QO-W-8XjH7l",
    "outputId": "a4c3fa70-bac3-4266-f640-d9e60b527244"
   },
   "outputs": [
    {
     "data": {
      "text/plain": [
       "'зъбни'"
      ]
     },
     "execution_count": 20,
     "metadata": {},
     "output_type": "execute_result"
    }
   ],
   "source": [
    "stemmer.stem('зъбния')"
   ]
  },
  {
   "cell_type": "code",
   "execution_count": 21,
   "metadata": {
    "colab": {},
    "colab_type": "code",
    "executionInfo": {
     "elapsed": 1020,
     "status": "ok",
     "timestamp": 1593209918796,
     "user": {
      "displayName": "Sylvia Vassileva",
      "photoUrl": "https://lh3.googleusercontent.com/a-/AOh14GhWuuQVwWdtTS1dFYuVP6TvBWkYX4dTELYnzKEZ0g=s64",
      "userId": "18356117093765644087"
     },
     "user_tz": -180
    },
    "id": "QuP29kb7xYiE"
   },
   "outputs": [],
   "source": [
    "stopwords = pd.read_csv('{0}Custom-BTB-StopWordList.csv'.format(ORIGINAL_BASE_PATH), header=None)\n",
    "stopwordsList = list(stopwords[0])"
   ]
  },
  {
   "cell_type": "code",
   "execution_count": 22,
   "metadata": {
    "colab": {},
    "colab_type": "code",
    "executionInfo": {
     "elapsed": 561,
     "status": "ok",
     "timestamp": 1593209920769,
     "user": {
      "displayName": "Sylvia Vassileva",
      "photoUrl": "https://lh3.googleusercontent.com/a-/AOh14GhWuuQVwWdtTS1dFYuVP6TvBWkYX4dTELYnzKEZ0g=s64",
      "userId": "18356117093765644087"
     },
     "user_tz": -180
    },
    "id": "6kTVzwSOHmZo"
   },
   "outputs": [],
   "source": [
    "import re\n",
    "\n",
    "def apply_stemmer(x):\n",
    "  disease = str(x)\n",
    "  # remove ICD-10 codes\n",
    "  cleaned = re.sub(r\"[A-ZА-Я][0-9]{2}.[0-9]\", \" \",  disease);\n",
    "  cleaned = re.sub(r\"[A-ZА-Я][0-9]{2}\", \" \",  cleaned);\n",
    "  cleaned = re.sub('[^0-9a-zA-ZА-Яа-я% ]+', ' ', cleaned)\n",
    "  cleaned = cleaned.lower()\n",
    "  tokens = cleaned.split();\n",
    "  stems = [];\n",
    "  for token in tokens:\n",
    "    if(not(token in stopwordsList)):\n",
    "      stem = stemmer.stem(token);\n",
    "      stems.append(stem);\n",
    "  result = \" \".join(stems);\n",
    "  return result;"
   ]
  },
  {
   "cell_type": "code",
   "execution_count": 23,
   "metadata": {
    "colab": {
     "base_uri": "https://localhost:8080/",
     "height": 35
    },
    "colab_type": "code",
    "executionInfo": {
     "elapsed": 554,
     "status": "ok",
     "timestamp": 1593203320297,
     "user": {
      "displayName": "Sylvia Vassileva",
      "photoUrl": "https://lh3.googleusercontent.com/a-/AOh14GhWuuQVwWdtTS1dFYuVP6TvBWkYX4dTELYnzKEZ0g=s64",
      "userId": "18356117093765644087"
     },
     "user_tz": -180
    },
    "id": "P_xc1KAzKE4A",
    "outputId": "66121b42-3197-48d3-a501-ee8a3989afe7"
   },
   "outputs": [
    {
     "data": {
      "text/plain": [
       "'монозом 2п15 п16 1'"
      ]
     },
     "execution_count": 23,
     "metadata": {},
     "output_type": "execute_result"
    }
   ],
   "source": [
    "apply_stemmer('монозомíа 2п15 п16.1')"
   ]
  },
  {
   "cell_type": "code",
   "execution_count": 24,
   "metadata": {
    "colab": {},
    "colab_type": "code",
    "executionInfo": {
     "elapsed": 578,
     "status": "ok",
     "timestamp": 1593209954018,
     "user": {
      "displayName": "Sylvia Vassileva",
      "photoUrl": "https://lh3.googleusercontent.com/a-/AOh14GhWuuQVwWdtTS1dFYuVP6TvBWkYX4dTELYnzKEZ0g=s64",
      "userId": "18356117093765644087"
     },
     "user_tz": -180
    },
    "id": "oVEFYB5Zu3Da"
   },
   "outputs": [],
   "source": [
    "invalidValues = ['#value!', '#VALUE!', '#наме?']\n",
    "df_4sign_filtered = df_4sign[~df_4sign[TEXT_COLUMN].isin(invalidValues)];\n",
    "#df_3sign_filtered = df_3sign[~df_3sign[TEXT_COLUMN].isin(invalidValues)];"
   ]
  },
  {
   "cell_type": "code",
   "execution_count": 25,
   "metadata": {
    "colab": {
     "base_uri": "https://localhost:8080/",
     "height": 238
    },
    "colab_type": "code",
    "executionInfo": {
     "elapsed": 26990,
     "status": "ok",
     "timestamp": 1593203446893,
     "user": {
      "displayName": "Sylvia Vassileva",
      "photoUrl": "https://lh3.googleusercontent.com/a-/AOh14GhWuuQVwWdtTS1dFYuVP6TvBWkYX4dTELYnzKEZ0g=s64",
      "userId": "18356117093765644087"
     },
     "user_tz": -180
    },
    "id": "BVc42ToVZfQA",
    "outputId": "c28ef01e-8e2d-401e-8239-6ba91843dd8b"
   },
   "outputs": [
    {
     "name": "stdout",
     "output_type": "stream",
     "text": [
      "(377937, 2)\n"
     ]
    },
    {
     "data": {
      "text/html": [
       "<div>\n",
       "<style scoped>\n",
       "    .dataframe tbody tr th:only-of-type {\n",
       "        vertical-align: middle;\n",
       "    }\n",
       "\n",
       "    .dataframe tbody tr th {\n",
       "        vertical-align: top;\n",
       "    }\n",
       "\n",
       "    .dataframe thead th {\n",
       "        text-align: right;\n",
       "    }\n",
       "</style>\n",
       "<table border=\"1\" class=\"dataframe\">\n",
       "  <thead>\n",
       "    <tr style=\"text-align: right;\">\n",
       "      <th></th>\n",
       "      <th>ICD10</th>\n",
       "      <th>Text</th>\n",
       "    </tr>\n",
       "  </thead>\n",
       "  <tbody>\n",
       "    <tr>\n",
       "      <th>0</th>\n",
       "      <td>A00</td>\n",
       "      <td>холер</td>\n",
       "    </tr>\n",
       "    <tr>\n",
       "      <th>1</th>\n",
       "      <td>A00.0</td>\n",
       "      <td>холер предизвика холер вибрион 01 биовар cholerae</td>\n",
       "    </tr>\n",
       "    <tr>\n",
       "      <th>2</th>\n",
       "      <td>A00.1</td>\n",
       "      <td>холер предизвика холер вибрион 01 биовар eltor</td>\n",
       "    </tr>\n",
       "    <tr>\n",
       "      <th>3</th>\n",
       "      <td>A00.9</td>\n",
       "      <td>холер неуточн</td>\n",
       "    </tr>\n",
       "    <tr>\n",
       "      <th>4</th>\n",
       "      <td>A01</td>\n",
       "      <td>тиф паратиф</td>\n",
       "    </tr>\n",
       "  </tbody>\n",
       "</table>\n",
       "</div>"
      ],
      "text/plain": [
       "   ICD10                                               Text\n",
       "0    A00                                              холер\n",
       "1  A00.0  холер предизвика холер вибрион 01 биовар cholerae\n",
       "2  A00.1     холер предизвика холер вибрион 01 биовар eltor\n",
       "3  A00.9                                      холер неуточн\n",
       "4    A01                                        тиф паратиф"
      ]
     },
     "execution_count": 25,
     "metadata": {},
     "output_type": "execute_result"
    }
   ],
   "source": [
    "# apply stemming and stop words\n",
    "df_4sign_stemmed = pd.DataFrame({\n",
    "            LABEL_COLUMN:df_4sign_filtered[LABEL_COLUMN],\n",
    "            TEXT_COLUMN:df_4sign_filtered[TEXT_COLUMN].apply(lambda x: apply_stemmer(x))\n",
    "            })\n",
    "print(df_4sign_stemmed.shape)\n",
    "\n",
    "df_4sign_stemmed.head()"
   ]
  },
  {
   "cell_type": "code",
   "execution_count": 26,
   "metadata": {},
   "outputs": [
    {
     "data": {
      "text/plain": [
       "(368554, 2)"
      ]
     },
     "execution_count": 26,
     "metadata": {},
     "output_type": "execute_result"
    }
   ],
   "source": [
    "df_4sign_stemmed = df_4sign_stemmed.drop_duplicates()\n",
    "df_4sign_stemmed = df_4sign_stemmed[df_4sign_stemmed[TEXT_COLUMN].str.len() >= 2]\n",
    "df_4sign_stemmed.shape"
   ]
  },
  {
   "cell_type": "code",
   "execution_count": 27,
   "metadata": {
    "colab": {
     "base_uri": "https://localhost:8080/",
     "height": 34
    },
    "colab_type": "code",
    "executionInfo": {
     "elapsed": 3567,
     "status": "ok",
     "timestamp": 1593203520263,
     "user": {
      "displayName": "Sylvia Vassileva",
      "photoUrl": "https://lh3.googleusercontent.com/a-/AOh14GhWuuQVwWdtTS1dFYuVP6TvBWkYX4dTELYnzKEZ0g=s64",
      "userId": "18356117093765644087"
     },
     "user_tz": -180
    },
    "id": "UtMaEwbkSgCK",
    "outputId": "3a5c6abe-f17d-463f-f01d-b431d328893c"
   },
   "outputs": [
    {
     "name": "stdout",
     "output_type": "stream",
     "text": [
      "[]\n"
     ]
    }
   ],
   "source": [
    "# validate all codes are valid classes, result should be empty\n",
    "differences_4sign = np.setdiff1d(df_4sign_stemmed[LABEL_COLUMN], classes_4sign[LABEL_COLUMN])\n",
    "\n",
    "print(differences_4sign)"
   ]
  },
  {
   "cell_type": "code",
   "execution_count": 28,
   "metadata": {},
   "outputs": [],
   "source": [
    "df_4sign_stemmed.to_csv('{0}dataset-stemmed-4.csv'.format(BASE_PATH), sep=',', index=False, header=True)"
   ]
  },
  {
   "cell_type": "markdown",
   "metadata": {},
   "source": [
    "# Collapse Low Resource Classed"
   ]
  },
  {
   "cell_type": "code",
   "execution_count": 29,
   "metadata": {},
   "outputs": [],
   "source": [
    "groups_4sign = df_4sign_stemmed.groupby(LABEL_COLUMN).count().reset_index()\n",
    "groups_4sign.columns= [LABEL_COLUMN, 'count']"
   ]
  },
  {
   "cell_type": "code",
   "execution_count": 30,
   "metadata": {},
   "outputs": [
    {
     "data": {
      "text/plain": [
       "368554"
      ]
     },
     "execution_count": 30,
     "metadata": {},
     "output_type": "execute_result"
    }
   ],
   "source": [
    "groups_4sign['count'].sum()"
   ]
  },
  {
   "cell_type": "code",
   "execution_count": 31,
   "metadata": {},
   "outputs": [],
   "source": [
    "small_classes_4sign = groups_4sign[groups_4sign['count'] <= 5][LABEL_COLUMN]"
   ]
  },
  {
   "cell_type": "code",
   "execution_count": 32,
   "metadata": {},
   "outputs": [
    {
     "data": {
      "text/plain": [
       "24    A04.0\n",
       "25    A04.1\n",
       "26    A04.2\n",
       "27    A04.3\n",
       "29    A04.5\n",
       "33    A04.9\n",
       "38    A05.3\n",
       "39    A05.4\n",
       "40    A05.8\n",
       "61    A08.0\n",
       "63    A08.2\n",
       "66    A08.5\n",
       "70    A15.1\n",
       "71    A15.2\n",
       "72    A15.3\n",
       "78    A15.9\n",
       "80    A16.0\n",
       "81    A16.1\n",
       "90    A17.0\n",
       "91    A17.1\n",
       "Name: ICD10, dtype: object"
      ]
     },
     "execution_count": 32,
     "metadata": {},
     "output_type": "execute_result"
    }
   ],
   "source": [
    "# classes with number of representatives <= 5\n",
    "small_classes_4sign.head(20)"
   ]
  },
  {
   "cell_type": "code",
   "execution_count": 33,
   "metadata": {},
   "outputs": [
    {
     "data": {
      "text/html": [
       "<div>\n",
       "<style scoped>\n",
       "    .dataframe tbody tr th:only-of-type {\n",
       "        vertical-align: middle;\n",
       "    }\n",
       "\n",
       "    .dataframe tbody tr th {\n",
       "        vertical-align: top;\n",
       "    }\n",
       "\n",
       "    .dataframe thead th {\n",
       "        text-align: right;\n",
       "    }\n",
       "</style>\n",
       "<table border=\"1\" class=\"dataframe\">\n",
       "  <thead>\n",
       "    <tr style=\"text-align: right;\">\n",
       "      <th></th>\n",
       "      <th>ICD10</th>\n",
       "      <th>Text</th>\n",
       "    </tr>\n",
       "  </thead>\n",
       "  <tbody>\n",
       "    <tr>\n",
       "      <th>91</th>\n",
       "      <td>A17.1</td>\n",
       "      <td>менингеал туберкулом</td>\n",
       "    </tr>\n",
       "    <tr>\n",
       "      <th>10972</th>\n",
       "      <td>A17.1</td>\n",
       "      <td>туберкулом</td>\n",
       "    </tr>\n",
       "  </tbody>\n",
       "</table>\n",
       "</div>"
      ],
      "text/plain": [
       "       ICD10                  Text\n",
       "91     A17.1  менингеал туберкулом\n",
       "10972  A17.1            туберкулом"
      ]
     },
     "execution_count": 33,
     "metadata": {},
     "output_type": "execute_result"
    }
   ],
   "source": [
    "df_4sign_stemmed[df_4sign_stemmed[LABEL_COLUMN] == 'A17.1']"
   ]
  },
  {
   "cell_type": "code",
   "execution_count": 34,
   "metadata": {},
   "outputs": [
    {
     "name": "stdout",
     "output_type": "stream",
     "text": [
      "number of small classes with 4 signs:  4534\n",
      "number of small classes with 3 signs:  405\n"
     ]
    }
   ],
   "source": [
    "print('number of small classes with 4 signs: ', len(small_classes_4sign[(small_classes_4sign.str.len() == 5)]))\n",
    "print('number of small classes with 3 signs: ', len(small_classes_4sign[(small_classes_4sign.str.len() == 3)]))"
   ]
  },
  {
   "cell_type": "code",
   "execution_count": 35,
   "metadata": {},
   "outputs": [],
   "source": [
    "groups_4sign = df_4sign_stemmed.groupby(LABEL_COLUMN).count().reset_index()\n",
    "groups_4sign.columns= [LABEL_COLUMN, 'count']\n",
    "groups_4sign.to_csv('{0}class-groups-4.csv'.format(BASE_PATH), sep=',', index=False, header=True)"
   ]
  },
  {
   "cell_type": "code",
   "execution_count": 36,
   "metadata": {},
   "outputs": [],
   "source": [
    "small_classes_4sign_unique = small_classes_4sign.unique()"
   ]
  },
  {
   "cell_type": "code",
   "execution_count": 37,
   "metadata": {},
   "outputs": [
    {
     "data": {
      "text/plain": [
       "4939"
      ]
     },
     "execution_count": 37,
     "metadata": {},
     "output_type": "execute_result"
    }
   ],
   "source": [
    "len(small_classes_4sign_unique)"
   ]
  },
  {
   "cell_type": "code",
   "execution_count": 38,
   "metadata": {},
   "outputs": [],
   "source": [
    "# trim the class label to 3 signs if it's in the small class list\n",
    "def collapse_label(label):\n",
    "    if label in small_classes_4sign_unique and len(label) > 3:\n",
    "        return label[0:3]\n",
    "    else:\n",
    "        return label"
   ]
  },
  {
   "cell_type": "code",
   "execution_count": 39,
   "metadata": {},
   "outputs": [
    {
     "data": {
      "text/plain": [
       "'A04'"
      ]
     },
     "execution_count": 39,
     "metadata": {},
     "output_type": "execute_result"
    }
   ],
   "source": [
    "collapse_label('A04.0')"
   ]
  },
  {
   "cell_type": "code",
   "execution_count": 40,
   "metadata": {},
   "outputs": [
    {
     "name": "stdout",
     "output_type": "stream",
     "text": [
      "(368554, 2)\n"
     ]
    },
    {
     "data": {
      "text/html": [
       "<div>\n",
       "<style scoped>\n",
       "    .dataframe tbody tr th:only-of-type {\n",
       "        vertical-align: middle;\n",
       "    }\n",
       "\n",
       "    .dataframe tbody tr th {\n",
       "        vertical-align: top;\n",
       "    }\n",
       "\n",
       "    .dataframe thead th {\n",
       "        text-align: right;\n",
       "    }\n",
       "</style>\n",
       "<table border=\"1\" class=\"dataframe\">\n",
       "  <thead>\n",
       "    <tr style=\"text-align: right;\">\n",
       "      <th></th>\n",
       "      <th>ICD10</th>\n",
       "      <th>Text</th>\n",
       "    </tr>\n",
       "  </thead>\n",
       "  <tbody>\n",
       "    <tr>\n",
       "      <th>0</th>\n",
       "      <td>A00</td>\n",
       "      <td>холер</td>\n",
       "    </tr>\n",
       "    <tr>\n",
       "      <th>1</th>\n",
       "      <td>A00.0</td>\n",
       "      <td>холер предизвика холер вибрион 01 биовар cholerae</td>\n",
       "    </tr>\n",
       "    <tr>\n",
       "      <th>2</th>\n",
       "      <td>A00.1</td>\n",
       "      <td>холер предизвика холер вибрион 01 биовар eltor</td>\n",
       "    </tr>\n",
       "    <tr>\n",
       "      <th>3</th>\n",
       "      <td>A00.9</td>\n",
       "      <td>холер неуточн</td>\n",
       "    </tr>\n",
       "    <tr>\n",
       "      <th>4</th>\n",
       "      <td>A01</td>\n",
       "      <td>тиф паратиф</td>\n",
       "    </tr>\n",
       "  </tbody>\n",
       "</table>\n",
       "</div>"
      ],
      "text/plain": [
       "   ICD10                                               Text\n",
       "0    A00                                              холер\n",
       "1  A00.0  холер предизвика холер вибрион 01 биовар cholerae\n",
       "2  A00.1     холер предизвика холер вибрион 01 биовар eltor\n",
       "3  A00.9                                      холер неуточн\n",
       "4    A01                                        тиф паратиф"
      ]
     },
     "execution_count": 40,
     "metadata": {},
     "output_type": "execute_result"
    }
   ],
   "source": [
    "# collapse the small classes to their parent classes\n",
    "df_4sign_collapsed = pd.DataFrame({\n",
    "            LABEL_COLUMN:df_4sign_stemmed[LABEL_COLUMN].apply(lambda x: collapse_label(x)),\n",
    "            TEXT_COLUMN:df_4sign_stemmed[TEXT_COLUMN]\n",
    "            })\n",
    "print(df_4sign_collapsed.shape)\n",
    "\n",
    "df_4sign_collapsed.head()"
   ]
  },
  {
   "cell_type": "code",
   "execution_count": 41,
   "metadata": {},
   "outputs": [
    {
     "data": {
      "text/plain": [
       "(356342, 2)"
      ]
     },
     "execution_count": 41,
     "metadata": {},
     "output_type": "execute_result"
    }
   ],
   "source": [
    "# remove any duplicates\n",
    "df_4sign_collapsed = df_4sign_collapsed.drop_duplicates()\n",
    "df_4sign_collapsed.shape"
   ]
  },
  {
   "cell_type": "markdown",
   "metadata": {},
   "source": [
    "# Augment Classes with Low Representation"
   ]
  },
  {
   "cell_type": "code",
   "execution_count": 42,
   "metadata": {
    "colab": {
     "base_uri": "https://localhost:8080/",
     "height": 34
    },
    "colab_type": "code",
    "executionInfo": {
     "elapsed": 596,
     "status": "ok",
     "timestamp": 1593203523182,
     "user": {
      "displayName": "Sylvia Vassileva",
      "photoUrl": "https://lh3.googleusercontent.com/a-/AOh14GhWuuQVwWdtTS1dFYuVP6TvBWkYX4dTELYnzKEZ0g=s64",
      "userId": "18356117093765644087"
     },
     "user_tz": -180
    },
    "id": "ex0MbqhLNQqF",
    "outputId": "36cfa8e0-d09d-4b69-ab12-45a038653127"
   },
   "outputs": [
    {
     "data": {
      "text/plain": [
       "405"
      ]
     },
     "execution_count": 42,
     "metadata": {},
     "output_type": "execute_result"
    }
   ],
   "source": [
    "# calculate number of small classes (they are 3-sign classes only and can't be collapsed)\n",
    "groups_4sign_collapsed = df_4sign_collapsed.groupby(LABEL_COLUMN).count().reset_index()\n",
    "groups_4sign_collapsed.columns= [LABEL_COLUMN, 'count']\n",
    "small_classes_4sign_collapsed = groups_4sign_collapsed[groups_4sign_collapsed['count'] <= 5][LABEL_COLUMN]\n",
    "len(small_classes_4sign_collapsed)"
   ]
  },
  {
   "cell_type": "code",
   "execution_count": 43,
   "metadata": {},
   "outputs": [
    {
     "data": {
      "text/html": [
       "<div>\n",
       "<style scoped>\n",
       "    .dataframe tbody tr th:only-of-type {\n",
       "        vertical-align: middle;\n",
       "    }\n",
       "\n",
       "    .dataframe tbody tr th {\n",
       "        vertical-align: top;\n",
       "    }\n",
       "\n",
       "    .dataframe thead th {\n",
       "        text-align: right;\n",
       "    }\n",
       "</style>\n",
       "<table border=\"1\" class=\"dataframe\">\n",
       "  <thead>\n",
       "    <tr style=\"text-align: right;\">\n",
       "      <th></th>\n",
       "      <th>ICD10</th>\n",
       "      <th>count</th>\n",
       "    </tr>\n",
       "  </thead>\n",
       "  <tbody>\n",
       "    <tr>\n",
       "      <th>0</th>\n",
       "      <td>A00</td>\n",
       "      <td>74</td>\n",
       "    </tr>\n",
       "    <tr>\n",
       "      <th>1</th>\n",
       "      <td>A00.0</td>\n",
       "      <td>24</td>\n",
       "    </tr>\n",
       "    <tr>\n",
       "      <th>2</th>\n",
       "      <td>A00.1</td>\n",
       "      <td>25</td>\n",
       "    </tr>\n",
       "    <tr>\n",
       "      <th>3</th>\n",
       "      <td>A00.9</td>\n",
       "      <td>24</td>\n",
       "    </tr>\n",
       "    <tr>\n",
       "      <th>4</th>\n",
       "      <td>A01</td>\n",
       "      <td>142</td>\n",
       "    </tr>\n",
       "  </tbody>\n",
       "</table>\n",
       "</div>"
      ],
      "text/plain": [
       "   ICD10  count\n",
       "0    A00     74\n",
       "1  A00.0     24\n",
       "2  A00.1     25\n",
       "3  A00.9     24\n",
       "4    A01    142"
      ]
     },
     "execution_count": 43,
     "metadata": {},
     "output_type": "execute_result"
    }
   ],
   "source": [
    "groups_4sign_collapsed.head()"
   ]
  },
  {
   "cell_type": "code",
   "execution_count": 44,
   "metadata": {},
   "outputs": [],
   "source": [
    "groups_4sign_collapsed.to_csv('{0}class-counts-collapsed-4.csv'.format(BASE_PATH), sep=',', index=False, header=True)"
   ]
  },
  {
   "cell_type": "code",
   "execution_count": 45,
   "metadata": {
    "colab": {
     "base_uri": "https://localhost:8080/",
     "height": 221
    },
    "colab_type": "code",
    "executionInfo": {
     "elapsed": 785,
     "status": "ok",
     "timestamp": 1593105896849,
     "user": {
      "displayName": "Sylvia Vassileva",
      "photoUrl": "https://lh3.googleusercontent.com/a-/AOh14GhWuuQVwWdtTS1dFYuVP6TvBWkYX4dTELYnzKEZ0g=s64",
      "userId": "18356117093765644087"
     },
     "user_tz": -180
    },
    "id": "ELLUnIA2DI2M",
    "outputId": "bd57cf1c-dafa-4ed2-a548-27bced0f0094"
   },
   "outputs": [
    {
     "data": {
      "text/plain": [
       "232    A64\n",
       "319    A89\n",
       "349    A99\n",
       "381    B09\n",
       "405    B24\n",
       "Name: ICD10, dtype: object"
      ]
     },
     "execution_count": 45,
     "metadata": {},
     "output_type": "execute_result"
    }
   ],
   "source": [
    "small_classes_4sign_collapsed.head()"
   ]
  },
  {
   "cell_type": "code",
   "execution_count": 46,
   "metadata": {
    "colab": {},
    "colab_type": "code",
    "id": "8Ibf1m1dSsRL"
   },
   "outputs": [],
   "source": [
    "df_small_classes_4sign_collapsed = df_4sign_collapsed[df_4sign_collapsed[LABEL_COLUMN].isin(small_classes_4sign_collapsed)]"
   ]
  },
  {
   "cell_type": "code",
   "execution_count": 47,
   "metadata": {},
   "outputs": [
    {
     "data": {
      "text/plain": [
       "(608, 2)"
      ]
     },
     "execution_count": 47,
     "metadata": {},
     "output_type": "execute_result"
    }
   ],
   "source": [
    "df_small_classes_4sign_collapsed.shape"
   ]
  },
  {
   "cell_type": "code",
   "execution_count": 48,
   "metadata": {
    "colab": {},
    "colab_type": "code",
    "id": "M9Dfp4JQkyKj"
   },
   "outputs": [],
   "source": [
    "df_small_classes_4sign_collapsed.to_csv('{0}small-classes-collapsed-4.csv'.format(BASE_PATH), sep=',', index=False, header=True)"
   ]
  },
  {
   "cell_type": "code",
   "execution_count": 49,
   "metadata": {
    "colab": {
     "base_uri": "https://localhost:8080/",
     "height": 357
    },
    "colab_type": "code",
    "executionInfo": {
     "elapsed": 4387,
     "status": "ok",
     "timestamp": 1593203534088,
     "user": {
      "displayName": "Sylvia Vassileva",
      "photoUrl": "https://lh3.googleusercontent.com/a-/AOh14GhWuuQVwWdtTS1dFYuVP6TvBWkYX4dTELYnzKEZ0g=s64",
      "userId": "18356117093765644087"
     },
     "user_tz": -180
    },
    "id": "ZIjGlMD_GhMm",
    "outputId": "026c1ebc-b72c-482a-e2f2-e9f7210a0951"
   },
   "outputs": [
    {
     "name": "stdout",
     "output_type": "stream",
     "text": [
      "Requirement already satisfied: nlpaug in c:\\users\\sylvia\\anaconda3\\lib\\site-packages (0.0.14)\n",
      "Requirement already satisfied: numpy in c:\\users\\sylvia\\anaconda3\\lib\\site-packages (1.18.0)\n",
      "Requirement already satisfied: matplotlib in c:\\users\\sylvia\\anaconda3\\lib\\site-packages (3.1.3)\n",
      "Requirement already satisfied: python-dotenv in c:\\users\\sylvia\\anaconda3\\lib\\site-packages (0.14.0)\n",
      "Requirement already satisfied: setuptools in c:\\users\\sylvia\\anaconda3\\lib\\site-packages (45.2.0.post20200210)\n",
      "Requirement already satisfied: requests in c:\\users\\sylvia\\anaconda3\\lib\\site-packages (2.22.0)\n",
      "Requirement already satisfied: python-dateutil>=2.1 in c:\\users\\sylvia\\anaconda3\\lib\\site-packages (from matplotlib) (2.8.1)\n",
      "Requirement already satisfied: cycler>=0.10 in c:\\users\\sylvia\\anaconda3\\lib\\site-packages (from matplotlib) (0.10.0)\n",
      "Requirement already satisfied: pyparsing!=2.0.4,!=2.1.2,!=2.1.6,>=2.0.1 in c:\\users\\sylvia\\anaconda3\\lib\\site-packages (from matplotlib) (2.4.6)\n",
      "Requirement already satisfied: kiwisolver>=1.0.1 in c:\\users\\sylvia\\anaconda3\\lib\\site-packages (from matplotlib) (1.1.0)\n",
      "Requirement already satisfied: chardet<3.1.0,>=3.0.2 in c:\\users\\sylvia\\anaconda3\\lib\\site-packages (from requests) (3.0.4)\n",
      "Requirement already satisfied: certifi>=2017.4.17 in c:\\users\\sylvia\\anaconda3\\lib\\site-packages (from requests) (2019.11.28)\n",
      "Requirement already satisfied: idna<2.9,>=2.5 in c:\\users\\sylvia\\anaconda3\\lib\\site-packages (from requests) (2.8)\n",
      "Requirement already satisfied: urllib3!=1.25.0,!=1.25.1,<1.26,>=1.21.1 in c:\\users\\sylvia\\anaconda3\\lib\\site-packages (from requests) (1.25.8)\n",
      "Requirement already satisfied: six>=1.5 in c:\\users\\sylvia\\anaconda3\\lib\\site-packages (from python-dateutil>=2.1->matplotlib) (1.14.0)\n"
     ]
    }
   ],
   "source": [
    "!pip install nlpaug numpy matplotlib python-dotenv setuptools requests"
   ]
  },
  {
   "cell_type": "code",
   "execution_count": 50,
   "metadata": {
    "colab": {},
    "colab_type": "code",
    "id": "oWI9BJdMGmzq"
   },
   "outputs": [],
   "source": [
    "import nlpaug.augmenter.char as nac\n",
    "import nlpaug.augmenter.word as nacw"
   ]
  },
  {
   "cell_type": "code",
   "execution_count": 51,
   "metadata": {
    "colab": {
     "base_uri": "https://localhost:8080/",
     "height": 35
    },
    "colab_type": "code",
    "executionInfo": {
     "elapsed": 528,
     "status": "ok",
     "timestamp": 1593203681791,
     "user": {
      "displayName": "Sylvia Vassileva",
      "photoUrl": "https://lh3.googleusercontent.com/a-/AOh14GhWuuQVwWdtTS1dFYuVP6TvBWkYX4dTELYnzKEZ0g=s64",
      "userId": "18356117093765644087"
     },
     "user_tz": -180
    },
    "id": "KO0G57QjVfLd",
    "outputId": "6c319b48-bfe9-4987-b59d-b7579082d30d"
   },
   "outputs": [
    {
     "data": {
      "text/plain": [
       "'това е на проба аугментация'"
      ]
     },
     "execution_count": 51,
     "metadata": {},
     "output_type": "execute_result"
    }
   ],
   "source": [
    "aug_word = nacw.RandomWordAug(action=\"swap\")\n",
    "aug_word.augment('това е проба на аугментация')"
   ]
  },
  {
   "cell_type": "code",
   "execution_count": 52,
   "metadata": {},
   "outputs": [],
   "source": [
    "# map bg to en keyboard in order to use the nlp aug keyboard augmenter\n",
    "def keyboard_mapping(word, direction):\n",
    "    bg_en_map = { 'а':'a', 'б':'b', 'в':'w', 'г':'g', 'д':'d', 'е':'e', 'ж':'v', \n",
    "                 'з':'z', 'и':'i', 'й':'j', 'к':'k', 'л':'l', 'м':'m', 'н':'n', 'о':'o', 'п':'p', 'р':'r',\n",
    "                 'с':'s', 'т':'t', 'у':'u', 'ф':'f', 'х':'h', 'ц':'c', 'ч':'`', 'ш':'[', 'щ':']', 'ъ':'y',\n",
    "                 'ь':'x', 'ю':'\\\\', 'я':'q',\n",
    "                 'А':'A', 'Б':'B', 'В':'W', 'Г':'G', 'Д':'D', 'Е':'E', 'Ж':'V', \n",
    "                 'З':'Z', 'И':'I', 'Й':'J', 'К':'K', 'Л':'L', 'М':'M', 'Н':'N', 'О':'O', 'П':'P', 'Р':'R',\n",
    "                 'С':'S', 'Т':'T', 'Ъ':'U', 'Ф':'F', 'Х':'H', 'Ц':'C', 'Ч':'~', 'Ш':'{', 'Щ':'}', 'Ъ':'Y',\n",
    "                 'ѝ':'X', 'Ю':'|', 'Я':'Q'}\n",
    "    \n",
    "    en_bg_map = {v: k for k, v in bg_en_map.items()}\n",
    "    result = ''\n",
    "    \n",
    "    current_map = bg_en_map if direction == 1 else en_bg_map\n",
    "    \n",
    "    for character in word:        \n",
    "        # handle non-mapped characters\n",
    "        if character in current_map:\n",
    "            result += current_map[character]\n",
    "        else:\n",
    "            result += character\n",
    "    return result"
   ]
  },
  {
   "cell_type": "code",
   "execution_count": 53,
   "metadata": {
    "colab": {},
    "colab_type": "code",
    "id": "U5E_XBXIF-7s"
   },
   "outputs": [],
   "source": [
    "import random\n",
    "\n",
    "def augment_text(text):\n",
    "  aug_char = [\n",
    "      nac.RandomCharAug(action=\"swap\", aug_char_min=1, min_char=1),\n",
    "      nac.RandomCharAug(action=\"delete\", aug_char_min=1, min_char=1),\n",
    "      nac.KeyboardAug(aug_char_max=1, min_char=1, include_special_char=False, include_numeric=False)\n",
    "  ]\n",
    "\n",
    "  aug_word = [ \n",
    "      nacw.RandomWordAug(action=\"swap\"),\n",
    "      nac.RandomCharAug(action=\"swap\", aug_char_min=1, min_char=1)\n",
    "  ]\n",
    "  tokens = text.split(' ')\n",
    "  tokens_len = len(tokens)\n",
    "  \n",
    "  augmented_text = text\n",
    "    \n",
    "  if len(text) == 1:\n",
    "    augmented_text = text\n",
    "  elif tokens_len == 1:\n",
    "      aug_number = random.randint(0, 2)\n",
    "      if aug_number == 2: #keyboard        \n",
    "        transliterated = keyboard_mapping(text, 1)\n",
    "        augmented_transliterated = aug_char[aug_number].augment(transliterated)\n",
    "        augmented_text = keyboard_mapping(augmented_transliterated, 2)\n",
    "      else:\n",
    "        augmented_text = aug_char[aug_number].augment(text)\n",
    "  else:\n",
    "    aug_number = random.randrange(2)\n",
    "    if aug_number == 1:\n",
    "      random_word_number = random.randint(0, tokens_len-1)\n",
    "      random_word = tokens[random_word_number]\n",
    "        \n",
    "      i = 1\n",
    "      while len(random_word) < 2 and i < 10:\n",
    "        random_word_number = random.randint(0, tokens_len-1)\n",
    "        random_word = tokens[random_word_number]\n",
    "        i += 1\n",
    "        \n",
    "      if len(random_word) >= 2:\n",
    "          try: \n",
    "              augmented_word = aug_word[aug_number].augment(random_word)\n",
    "              tokens[random_word_number] = augmented_word\n",
    "              augmented_text = ' '.join(tokens)\n",
    "          except:\n",
    "            print(random_word)\n",
    "      else:\n",
    "        augmented_text = aug_word[0].augment(text)\n",
    "    else:        \n",
    "      augmented_text = aug_word[aug_number].augment(text)\n",
    "\n",
    "  if augmented_text == text:\n",
    "    augmented_text = aug_char[1].augment(augmented_text)\n",
    "\n",
    "  return augmented_text"
   ]
  },
  {
   "cell_type": "code",
   "execution_count": 54,
   "metadata": {},
   "outputs": [
    {
     "data": {
      "text/plain": [
       "'Прехранван опслеид'"
      ]
     },
     "execution_count": 54,
     "metadata": {},
     "output_type": "execute_result"
    }
   ],
   "source": [
    "augment_text('Прехранван последи')"
   ]
  },
  {
   "cell_type": "code",
   "execution_count": 55,
   "metadata": {
    "colab": {},
    "colab_type": "code",
    "id": "a4aBsXgSGC5Y"
   },
   "outputs": [],
   "source": [
    "# augment the dataset by adding variations to the under-represented classes\n",
    "def augment_df(full_df, small_class_df, augment_iterations):\n",
    "    dfs_augmented_4sign = []\n",
    "\n",
    "    for i in range(augment_iterations):\n",
    "      df_augmented = pd.DataFrame({\n",
    "                TEXT_COLUMN:small_class_df[TEXT_COLUMN].apply(lambda x: augment_text(x)),\n",
    "                LABEL_COLUMN:small_class_df[LABEL_COLUMN]\n",
    "                })\n",
    "      dfs_augmented_4sign.append(df_augmented)\n",
    "\n",
    "    dfs_augmented_4sign.append(full_df)\n",
    "    df_augmented_4sign = pd.concat(dfs_augmented_4sign, ignore_index=True)\n",
    "    df_augmented_4sign = df_augmented_4sign.drop_duplicates()\n",
    "    \n",
    "    return df_augmented_4sign"
   ]
  },
  {
   "cell_type": "code",
   "execution_count": 56,
   "metadata": {},
   "outputs": [],
   "source": [
    "# return list of under-represented classes based on threshold\n",
    "def check_small_classes(full_df, small_class_threshold):\n",
    "    groups_4sign_result = full_df.groupby(LABEL_COLUMN).count().reset_index()\n",
    "    groups_4sign_result.columns= [LABEL_COLUMN, 'count']\n",
    "    small_classes_4sign_result = groups_4sign_result[groups_4sign_result['count'] <= small_class_threshold][LABEL_COLUMN]\n",
    "    return small_classes_4sign_result"
   ]
  },
  {
   "cell_type": "code",
   "execution_count": 57,
   "metadata": {
    "colab": {},
    "colab_type": "code",
    "id": "JBARqICWTZcY"
   },
   "outputs": [
    {
     "name": "stderr",
     "output_type": "stream",
     "text": [
      "C:\\Users\\sylvia\\anaconda3\\lib\\site-packages\\ipykernel_launcher.py:13: FutureWarning: Sorting because non-concatenation axis is not aligned. A future version\n",
      "of pandas will change to not sort by default.\n",
      "\n",
      "To accept the future behavior, pass 'sort=False'.\n",
      "\n",
      "To retain the current behavior and silence the warning, pass 'sort=True'.\n",
      "\n",
      "  del sys.path[0]\n"
     ]
    },
    {
     "name": "stdout",
     "output_type": "stream",
     "text": [
      "106\n",
      "0\n"
     ]
    }
   ],
   "source": [
    "# augment the dataset and ensure all classes have more than 5 unique representatives\n",
    "new_augmented_df = df_4sign_collapsed\n",
    "small_df = df_small_classes_4sign_collapsed\n",
    "small_classes = small_classes_4sign_collapsed\n",
    "i = 0;\n",
    "while len(small_classes) > 0 and i < 10:\n",
    "    small_df = new_augmented_df[new_augmented_df[LABEL_COLUMN].isin(small_classes)]\n",
    "    new_augmented_df = augment_df(new_augmented_df, small_df, 5)\n",
    "    small_classes = check_small_classes(new_augmented_df, 5)\n",
    "    i += 1\n",
    "    print(len(small_classes))"
   ]
  },
  {
   "cell_type": "code",
   "execution_count": 58,
   "metadata": {},
   "outputs": [
    {
     "data": {
      "text/plain": [
       "(360916, 2)"
      ]
     },
     "execution_count": 58,
     "metadata": {},
     "output_type": "execute_result"
    }
   ],
   "source": [
    "new_augmented_df.shape"
   ]
  },
  {
   "cell_type": "code",
   "execution_count": 59,
   "metadata": {
    "colab": {},
    "colab_type": "code",
    "id": "mG7cCd6ClHMC"
   },
   "outputs": [],
   "source": [
    "new_augmented_df.to_csv('{0}dataset-augmented-4.csv'.format(BASE_PATH), sep=',', index=False, header=True)"
   ]
  },
  {
   "cell_type": "code",
   "execution_count": 60,
   "metadata": {},
   "outputs": [
    {
     "name": "stdout",
     "output_type": "stream",
     "text": [
      "Number of unique classes in collapsed dataset: 6436\n"
     ]
    }
   ],
   "source": [
    "print('Number of unique classes in collapsed dataset:', len(new_augmented_df[LABEL_COLUMN].unique()))"
   ]
  },
  {
   "cell_type": "code",
   "execution_count": 61,
   "metadata": {},
   "outputs": [],
   "source": [
    "df_classes_collapsed = pd.DataFrame({'ICD10': np.sort(new_augmented_df[LABEL_COLUMN].unique())})"
   ]
  },
  {
   "cell_type": "code",
   "execution_count": 62,
   "metadata": {},
   "outputs": [],
   "source": [
    "df_classes_collapsed.to_csv('{0}classes-collapsed-4.csv'.format(BASE_PATH), sep=',', index=False, header=False)"
   ]
  },
  {
   "cell_type": "code",
   "execution_count": 63,
   "metadata": {},
   "outputs": [],
   "source": [
    "class_list = df_classes_collapsed['ICD10'].tolist()"
   ]
  },
  {
   "cell_type": "code",
   "execution_count": 64,
   "metadata": {},
   "outputs": [],
   "source": [
    "new_augmented_df[PRED_CLASS] = new_augmented_df.apply(lambda x:  class_list.index(x[LABEL_COLUMN]),axis=1)\n",
    "new_augmented_df[TEXT_COLUMN] = new_augmented_df[TEXT_COLUMN].apply(lambda x:  str(x))\n",
    "\n",
    "new_augmented_df = new_augmented_df.drop([LABEL_COLUMN], axis=1)\n",
    "\n",
    "train_dev_df, test_df = train_test_split(new_augmented_df,\n",
    "                            stratify=new_augmented_df[PRED_CLASS],\n",
    "                            random_state=42,\n",
    "                            shuffle=True, \n",
    "                            test_size=0.1)\n",
    "train_df, dev_df = train_test_split(train_dev_df,\n",
    "                            stratify=train_dev_df[PRED_CLASS],\n",
    "                            random_state=42,\n",
    "                            shuffle=True, \n",
    "                            test_size=0.11)\n",
    "\n",
    "train_df.to_csv('{0}train-4.csv'.format(BASE_PATH), sep=',', index=False, header=True)\n",
    "dev_df.to_csv('{0}dev-4.csv'.format(BASE_PATH), sep=',', index=False, header=True)\n",
    "test_df.to_csv('{0}test-4.csv'.format(BASE_PATH), sep=',', index=False, header=True)"
   ]
  },
  {
   "cell_type": "code",
   "execution_count": 65,
   "metadata": {},
   "outputs": [],
   "source": [
    "groups_4sign_collapsed = new_augmented_df.groupby(PRED_CLASS).count().reset_index()\n",
    "groups_4sign_collapsed.columns= [LABEL_COLUMN, 'count']\n",
    "groups_4sign_collapsed.to_csv('{0}class-groups-collapsed-4.csv'.format(BASE_PATH), sep=',', index=False, header=True)"
   ]
  },
  {
   "cell_type": "code",
   "execution_count": null,
   "metadata": {},
   "outputs": [],
   "source": []
  }
 ],
 "metadata": {
  "colab": {
   "authorship_tag": "ABX9TyPKPlgikv+16F/sZKEE+nbG",
   "collapsed_sections": [],
   "name": "Prepare-Data-ICD10",
   "provenance": []
  },
  "kernelspec": {
   "display_name": "Python 3",
   "language": "python",
   "name": "python3"
  },
  "language_info": {
   "codemirror_mode": {
    "name": "ipython",
    "version": 3
   },
   "file_extension": ".py",
   "mimetype": "text/x-python",
   "name": "python",
   "nbconvert_exporter": "python",
   "pygments_lexer": "ipython3",
   "version": "3.7.6"
  }
 },
 "nbformat": 4,
 "nbformat_minor": 1
}
