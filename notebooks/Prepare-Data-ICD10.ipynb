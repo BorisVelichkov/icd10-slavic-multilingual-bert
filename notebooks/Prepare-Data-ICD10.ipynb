{
 "cells": [
  {
   "cell_type": "markdown",
   "metadata": {},
   "source": [
    "# Configuration"
   ]
  },
  {
   "cell_type": "code",
   "execution_count": 1,
   "metadata": {},
   "outputs": [],
   "source": [
    "USE_COLAB=False"
   ]
  },
  {
   "cell_type": "code",
   "execution_count": 2,
   "metadata": {
    "colab": {
     "base_uri": "https://localhost:8080/",
     "height": 34
    },
    "colab_type": "code",
    "executionInfo": {
     "elapsed": 1187,
     "status": "ok",
     "timestamp": 1593209666013,
     "user": {
      "displayName": "Sylvia Vassileva",
      "photoUrl": "https://lh3.googleusercontent.com/a-/AOh14GhWuuQVwWdtTS1dFYuVP6TvBWkYX4dTELYnzKEZ0g=s64",
      "userId": "18356117093765644087"
     },
     "user_tz": -180
    },
    "id": "9gUn91XhO4mf",
    "outputId": "b976048a-60e2-4863-9bf1-4a66bb6aea93"
   },
   "outputs": [],
   "source": [
    "if USE_COLAB:\n",
    "    from google.colab import drive\n",
    "    drive.mount('/content/gdrive')"
   ]
  },
  {
   "cell_type": "code",
   "execution_count": 25,
   "metadata": {
    "colab": {},
    "colab_type": "code",
    "executionInfo": {
     "elapsed": 604,
     "status": "ok",
     "timestamp": 1593209763750,
     "user": {
      "displayName": "Sylvia Vassileva",
      "photoUrl": "https://lh3.googleusercontent.com/a-/AOh14GhWuuQVwWdtTS1dFYuVP6TvBWkYX4dTELYnzKEZ0g=s64",
      "userId": "18356117093765644087"
     },
     "user_tz": -180
    },
    "id": "k44ok6vborQ2"
   },
   "outputs": [],
   "source": [
    "BASE_PATH = '..\\\\data\\\\'\n",
    "ORIGINAL_BASE_PATH = '..\\\\data\\\\original\\\\'\n",
    "DIR_SEPARATOR = '\\\\' # /\n",
    "\n",
    "ICD10_BG_4SIGN = 'ICD10_bg_4sign.csv'\n",
    "ICD10_BG_3SIGN = 'ICD10_bg_3sign.csv'\n",
    "ICD10_ALL_4SIGN = 'ICD10_all_4sign.csv'\n",
    "ICD10_ALL_3SIGN = 'ICD10_all_3sign.csv'\n",
    "\n",
    "LABEL_COLUMN = 'ICD10'\n",
    "TEXT_COLUMN = 'Text'"
   ]
  },
  {
   "cell_type": "markdown",
   "metadata": {},
   "source": [
    "# Create Classes Files"
   ]
  },
  {
   "cell_type": "code",
   "execution_count": 4,
   "metadata": {
    "colab": {},
    "colab_type": "code",
    "executionInfo": {
     "elapsed": 1070,
     "status": "ok",
     "timestamp": 1593209671528,
     "user": {
      "displayName": "Sylvia Vassileva",
      "photoUrl": "https://lh3.googleusercontent.com/a-/AOh14GhWuuQVwWdtTS1dFYuVP6TvBWkYX4dTELYnzKEZ0g=s64",
      "userId": "18356117093765644087"
     },
     "user_tz": -180
    },
    "id": "vwlDOr7K1RhY"
   },
   "outputs": [],
   "source": [
    "import pandas as pd\n",
    "from sklearn.preprocessing import LabelEncoder\n",
    "from sklearn.model_selection import train_test_split\n",
    "from pandas import DataFrame\n",
    "import numpy as np"
   ]
  },
  {
   "cell_type": "code",
   "execution_count": 5,
   "metadata": {
    "colab": {
     "base_uri": "https://localhost:8080/",
     "height": 204
    },
    "colab_type": "code",
    "executionInfo": {
     "elapsed": 1799,
     "status": "ok",
     "timestamp": 1593105778704,
     "user": {
      "displayName": "Sylvia Vassileva",
      "photoUrl": "https://lh3.googleusercontent.com/a-/AOh14GhWuuQVwWdtTS1dFYuVP6TvBWkYX4dTELYnzKEZ0g=s64",
      "userId": "18356117093765644087"
     },
     "user_tz": -180
    },
    "id": "QWM8i8MFonlm",
    "outputId": "f336f73a-80a0-4d3f-95e4-638149aba57b"
   },
   "outputs": [
    {
     "data": {
      "text/html": [
       "<div>\n",
       "<style scoped>\n",
       "    .dataframe tbody tr th:only-of-type {\n",
       "        vertical-align: middle;\n",
       "    }\n",
       "\n",
       "    .dataframe tbody tr th {\n",
       "        vertical-align: top;\n",
       "    }\n",
       "\n",
       "    .dataframe thead th {\n",
       "        text-align: right;\n",
       "    }\n",
       "</style>\n",
       "<table border=\"1\" class=\"dataframe\">\n",
       "  <thead>\n",
       "    <tr style=\"text-align: right;\">\n",
       "      <th></th>\n",
       "      <th>ICD10</th>\n",
       "      <th>Text</th>\n",
       "    </tr>\n",
       "  </thead>\n",
       "  <tbody>\n",
       "    <tr>\n",
       "      <th>0</th>\n",
       "      <td>A00</td>\n",
       "      <td>Холера</td>\n",
       "    </tr>\n",
       "    <tr>\n",
       "      <th>1</th>\n",
       "      <td>A00.0</td>\n",
       "      <td>Холера, предизвикана от холерен вибрион 01, би...</td>\n",
       "    </tr>\n",
       "    <tr>\n",
       "      <th>2</th>\n",
       "      <td>A00.1</td>\n",
       "      <td>Холера, предизвикана от холерен вибрион 01, би...</td>\n",
       "    </tr>\n",
       "    <tr>\n",
       "      <th>3</th>\n",
       "      <td>A00.9</td>\n",
       "      <td>Холера, неуточнена</td>\n",
       "    </tr>\n",
       "    <tr>\n",
       "      <th>4</th>\n",
       "      <td>A01</td>\n",
       "      <td>Тиф и паратиф</td>\n",
       "    </tr>\n",
       "  </tbody>\n",
       "</table>\n",
       "</div>"
      ],
      "text/plain": [
       "   ICD10                                               Text\n",
       "0    A00                                             Холера\n",
       "1  A00.0  Холера, предизвикана от холерен вибрион 01, би...\n",
       "2  A00.1  Холера, предизвикана от холерен вибрион 01, би...\n",
       "3  A00.9                                 Холера, неуточнена\n",
       "4    A01                                      Тиф и паратиф"
      ]
     },
     "execution_count": 5,
     "metadata": {},
     "output_type": "execute_result"
    }
   ],
   "source": [
    "df_icd10 = pd.read_csv('{0}{1}'.format(ORIGINAL_BASE_PATH, ICD10_BG_4SIGN), header=None)\n",
    "df_icd10.columns = [LABEL_COLUMN, TEXT_COLUMN]\n",
    "df_icd10.head()"
   ]
  },
  {
   "cell_type": "code",
   "execution_count": 6,
   "metadata": {
    "colab": {},
    "colab_type": "code",
    "id": "CHq7XO_rQMDk"
   },
   "outputs": [],
   "source": [
    "# todo: reuse Boris' notebook\n",
    "def standardize_code(x, digits = 3, vocab = None):\n",
    "  code = fix_code(x);\n",
    "  code = code[0:digits]\n",
    "    \n",
    "  return code"
   ]
  },
  {
   "cell_type": "code",
   "execution_count": 7,
   "metadata": {
    "colab": {},
    "colab_type": "code",
    "id": "VXaeCkDIsWjt"
   },
   "outputs": [],
   "source": [
    "def fix_code(x):\n",
    "  code = str(x).upper().replace(r'\\n',' ');\n",
    "  code = code.replace('СЪЕДИНЕНИЕ ', '') \\\n",
    "  .replace('А','A') \\\n",
    "  .replace('Б','B') \\\n",
    "  .replace('В','B') \\\n",
    "  .replace('Е','E') \\\n",
    "  .replace('К','K') \\\n",
    "  .replace('М','M') \\\n",
    "  .replace('О','O') \\\n",
    "  .replace('Р','P') \\\n",
    "  .replace('Т','T') \\\n",
    "  .replace(' ','') \\\n",
    "  .replace('*','') \\\n",
    "  .replace('.-','') \\\n",
    "  .replace('+', '')\n",
    "  \n",
    "  return code"
   ]
  },
  {
   "cell_type": "code",
   "execution_count": 8,
   "metadata": {
    "colab": {
     "base_uri": "https://localhost:8080/",
     "height": 34
    },
    "colab_type": "code",
    "executionInfo": {
     "elapsed": 1141,
     "status": "ok",
     "timestamp": 1593105803686,
     "user": {
      "displayName": "Sylvia Vassileva",
      "photoUrl": "https://lh3.googleusercontent.com/a-/AOh14GhWuuQVwWdtTS1dFYuVP6TvBWkYX4dTELYnzKEZ0g=s64",
      "userId": "18356117093765644087"
     },
     "user_tz": -180
    },
    "id": "M6UDVNP2f4nu",
    "outputId": "0a44f22d-79dc-4665-9d45-da34cf4df8d8"
   },
   "outputs": [
    {
     "data": {
      "text/plain": [
       "'A71.1'"
      ]
     },
     "execution_count": 8,
     "metadata": {},
     "output_type": "execute_result"
    }
   ],
   "source": [
    "standardize_code('Съединение А71.1', digits=5)"
   ]
  },
  {
   "cell_type": "code",
   "execution_count": 9,
   "metadata": {
    "colab": {},
    "colab_type": "code",
    "id": "FSMVPQ0gqFpz"
   },
   "outputs": [],
   "source": [
    "classes_4sign = pd.DataFrame({\n",
    "            LABEL_COLUMN:df_icd10[LABEL_COLUMN].apply(lambda x: standardize_code(x, 5))\n",
    "            })\n"
   ]
  },
  {
   "cell_type": "code",
   "execution_count": 10,
   "metadata": {
    "colab": {
     "base_uri": "https://localhost:8080/",
     "height": 34
    },
    "colab_type": "code",
    "executionInfo": {
     "elapsed": 571,
     "status": "ok",
     "timestamp": 1593105807497,
     "user": {
      "displayName": "Sylvia Vassileva",
      "photoUrl": "https://lh3.googleusercontent.com/a-/AOh14GhWuuQVwWdtTS1dFYuVP6TvBWkYX4dTELYnzKEZ0g=s64",
      "userId": "18356117093765644087"
     },
     "user_tz": -180
    },
    "id": "8s5Sh6SuvBI4",
    "outputId": "bfed75bc-27bd-49ea-f2b9-96da35a4277b"
   },
   "outputs": [
    {
     "data": {
      "text/plain": [
       "(10971, 1)"
      ]
     },
     "execution_count": 10,
     "metadata": {},
     "output_type": "execute_result"
    }
   ],
   "source": [
    "classes_4sign.shape"
   ]
  },
  {
   "cell_type": "code",
   "execution_count": 11,
   "metadata": {
    "colab": {},
    "colab_type": "code",
    "id": "GTdji3JBqpmn"
   },
   "outputs": [],
   "source": [
    "classes_4sign.to_csv('{0}classes-4.csv'.format(BASE_PATH), sep=',', index=False, header=False)"
   ]
  },
  {
   "cell_type": "code",
   "execution_count": 12,
   "metadata": {
    "colab": {
     "base_uri": "https://localhost:8080/",
     "height": 34
    },
    "colab_type": "code",
    "executionInfo": {
     "elapsed": 949,
     "status": "ok",
     "timestamp": 1593014199358,
     "user": {
      "displayName": "Sylvia Vassileva",
      "photoUrl": "https://lh3.googleusercontent.com/a-/AOh14GhWuuQVwWdtTS1dFYuVP6TvBWkYX4dTELYnzKEZ0g=s64",
      "userId": "18356117093765644087"
     },
     "user_tz": -180
    },
    "id": "wRswpcwialww",
    "outputId": "bdb02542-f0bd-4c14-c419-37c038c5e02d"
   },
   "outputs": [],
   "source": [
    "classes_3sign = pd.DataFrame({\n",
    "            LABEL_COLUMN:df_icd10[LABEL_COLUMN].apply(lambda x: standardize_code(x, 3))\n",
    "            })"
   ]
  },
  {
   "cell_type": "code",
   "execution_count": 13,
   "metadata": {},
   "outputs": [
    {
     "data": {
      "text/plain": [
       "(10971, 1)"
      ]
     },
     "execution_count": 13,
     "metadata": {},
     "output_type": "execute_result"
    }
   ],
   "source": [
    "classes_3sign.shape"
   ]
  },
  {
   "cell_type": "code",
   "execution_count": 14,
   "metadata": {
    "colab": {},
    "colab_type": "code",
    "id": "z_UtIL35asvf"
   },
   "outputs": [],
   "source": [
    "classes_3sign.to_csv('{0}classes-3.csv'.format(BASE_PATH), sep=',', index=False, header=False)"
   ]
  },
  {
   "cell_type": "markdown",
   "metadata": {},
   "source": [
    "# Load Dataset, apply stemming and stop words"
   ]
  },
  {
   "cell_type": "code",
   "execution_count": 15,
   "metadata": {},
   "outputs": [],
   "source": [
    "import os\n",
    "from os import path"
   ]
  },
  {
   "cell_type": "code",
   "execution_count": 16,
   "metadata": {
    "colab": {},
    "colab_type": "code",
    "executionInfo": {
     "elapsed": 1438,
     "status": "ok",
     "timestamp": 1593209899497,
     "user": {
      "displayName": "Sylvia Vassileva",
      "photoUrl": "https://lh3.googleusercontent.com/a-/AOh14GhWuuQVwWdtTS1dFYuVP6TvBWkYX4dTELYnzKEZ0g=s64",
      "userId": "18356117093765644087"
     },
     "user_tz": -180
    },
    "id": "ZxiVv_e4i_gV"
   },
   "outputs": [],
   "source": [
    "file_name = '{0}{1}'.format(ORIGINAL_BASE_PATH, ICD10_ALL_4SIGN)\n",
    "df_4sign = pd.read_csv(file_name)"
   ]
  },
  {
   "cell_type": "code",
   "execution_count": 17,
   "metadata": {},
   "outputs": [],
   "source": [
    "file_name = '{0}{1}'.format(ORIGINAL_BASE_PATH, ICD10_ALL_3SIGN)\n",
    "df_3sign = pd.read_csv(file_name)"
   ]
  },
  {
   "cell_type": "code",
   "execution_count": 23,
   "metadata": {},
   "outputs": [],
   "source": [
    "original_workding_dir = os.getcwd()"
   ]
  },
  {
   "cell_type": "code",
   "execution_count": 26,
   "metadata": {
    "colab": {
     "base_uri": "https://localhost:8080/",
     "height": 374
    },
    "colab_type": "code",
    "executionInfo": {
     "elapsed": 5724,
     "status": "ok",
     "timestamp": 1593209917435,
     "user": {
      "displayName": "Sylvia Vassileva",
      "photoUrl": "https://lh3.googleusercontent.com/a-/AOh14GhWuuQVwWdtTS1dFYuVP6TvBWkYX4dTELYnzKEZ0g=s64",
      "userId": "18356117093765644087"
     },
     "user_tz": -180
    },
    "id": "E7D-gqL-envS",
    "outputId": "8e69f420-994f-45b4-cd75-649a5ff48f09"
   },
   "outputs": [
    {
     "name": "stderr",
     "output_type": "stream",
     "text": [
      "Cloning into 'bulstem-py'...\n",
      "fatal: not a git repository (or any of the parent directories): .git\n"
     ]
    },
    {
     "name": "stdout",
     "output_type": "stream",
     "text": [
      "Processing g:\\projects\\python\\icd10_bert\\notebooks\\bulstem-py\n",
      "Requirement already satisfied: nltk in c:\\users\\sylvia.vassileva\\anaconda3\\lib\\site-packages (from bulstem-py==0.2.0) (3.4.5)\n",
      "Requirement already satisfied: importlib_resources in c:\\users\\sylvia.vassileva\\anaconda3\\lib\\site-packages (from bulstem-py==0.2.0) (2.0.1)\n",
      "Requirement already satisfied: six in c:\\users\\sylvia.vassileva\\anaconda3\\lib\\site-packages (from nltk->bulstem-py==0.2.0) (1.12.0)\n",
      "Requirement already satisfied: importlib-metadata; python_version < \"3.8\" in c:\\users\\sylvia.vassileva\\anaconda3\\lib\\site-packages (from importlib_resources->bulstem-py==0.2.0) (1.5.0)\n",
      "Requirement already satisfied: zipp>=0.4; python_version < \"3.8\" in c:\\users\\sylvia.vassileva\\anaconda3\\lib\\site-packages (from importlib_resources->bulstem-py==0.2.0) (2.2.0)\n",
      "Building wheels for collected packages: bulstem-py\n",
      "  Building wheel for bulstem-py (setup.py): started\n",
      "  Building wheel for bulstem-py (setup.py): finished with status 'done'\n",
      "  Created wheel for bulstem-py: filename=bulstem_py-0.2.0-py3-none-any.whl size=828509 sha256=e86402fb88871a71490d1ade91478c673988fd6e823727206b91556ef5ca9aa3\n",
      "  Stored in directory: c:\\users\\sylvia.vassileva\\appdata\\local\\pip\\cache\\wheels\\25\\ae\\77\\03e7bb6939849d34c5b825db0940700cd23e5aaa711e48d092\n",
      "Successfully built bulstem-py\n",
      "Installing collected packages: bulstem-py\n",
      "  Attempting uninstall: bulstem-py\n",
      "    Found existing installation: bulstem-py 0.2.0\n",
      "    Uninstalling bulstem-py-0.2.0:\n",
      "      Successfully uninstalled bulstem-py-0.2.0\n",
      "Successfully installed bulstem-py-0.2.0\n"
     ]
    }
   ],
   "source": [
    "bulstem_py_dir = '{0}{1}bulstem-py'.format(original_workding_dir, DIR_SEPARATOR)\n",
    "if not(path.exists(bulstem_py_dir)):\n",
    "  os.chdir(original_workding_dir)\n",
    "  !git clone https://github.com/mhardalov/bulstem-py.git\n",
    "  !git pull\n",
    "\n",
    "os.chdir(bulstem_py_dir)\n",
    "\n",
    "!pip install .\n",
    "\n",
    "os.chdir(original_workding_dir)"
   ]
  },
  {
   "cell_type": "code",
   "execution_count": 27,
   "metadata": {
    "colab": {},
    "colab_type": "code",
    "executionInfo": {
     "elapsed": 2862,
     "status": "ok",
     "timestamp": 1593209917805,
     "user": {
      "displayName": "Sylvia Vassileva",
      "photoUrl": "https://lh3.googleusercontent.com/a-/AOh14GhWuuQVwWdtTS1dFYuVP6TvBWkYX4dTELYnzKEZ0g=s64",
      "userId": "18356117093765644087"
     },
     "user_tz": -180
    },
    "id": "fYKK5Fucf9Tt"
   },
   "outputs": [],
   "source": [
    "from bulstem.stem import BulStemmer\n",
    "stemmer = BulStemmer.from_file('stem-context-2', min_freq=2, left_context=1)"
   ]
  },
  {
   "cell_type": "code",
   "execution_count": 28,
   "metadata": {
    "colab": {
     "base_uri": "https://localhost:8080/",
     "height": 34
    },
    "colab_type": "code",
    "executionInfo": {
     "elapsed": 626,
     "status": "ok",
     "timestamp": 1593105829251,
     "user": {
      "displayName": "Sylvia Vassileva",
      "photoUrl": "https://lh3.googleusercontent.com/a-/AOh14GhWuuQVwWdtTS1dFYuVP6TvBWkYX4dTELYnzKEZ0g=s64",
      "userId": "18356117093765644087"
     },
     "user_tz": -180
    },
    "id": "8QO-W-8XjH7l",
    "outputId": "a4c3fa70-bac3-4266-f640-d9e60b527244"
   },
   "outputs": [
    {
     "data": {
      "text/plain": [
       "'зъбни'"
      ]
     },
     "execution_count": 28,
     "metadata": {},
     "output_type": "execute_result"
    }
   ],
   "source": [
    "stemmer.stem('зъбния')"
   ]
  },
  {
   "cell_type": "code",
   "execution_count": 36,
   "metadata": {
    "colab": {},
    "colab_type": "code",
    "executionInfo": {
     "elapsed": 1020,
     "status": "ok",
     "timestamp": 1593209918796,
     "user": {
      "displayName": "Sylvia Vassileva",
      "photoUrl": "https://lh3.googleusercontent.com/a-/AOh14GhWuuQVwWdtTS1dFYuVP6TvBWkYX4dTELYnzKEZ0g=s64",
      "userId": "18356117093765644087"
     },
     "user_tz": -180
    },
    "id": "QuP29kb7xYiE"
   },
   "outputs": [],
   "source": [
    "stopwords = pd.read_csv('{0}Custom-BTB-StopWordList.csv'.format(ORIGINAL_BASE_PATH), header=None)\n",
    "stopwordsList = list(stopwords[0])"
   ]
  },
  {
   "cell_type": "code",
   "execution_count": 37,
   "metadata": {
    "colab": {},
    "colab_type": "code",
    "executionInfo": {
     "elapsed": 561,
     "status": "ok",
     "timestamp": 1593209920769,
     "user": {
      "displayName": "Sylvia Vassileva",
      "photoUrl": "https://lh3.googleusercontent.com/a-/AOh14GhWuuQVwWdtTS1dFYuVP6TvBWkYX4dTELYnzKEZ0g=s64",
      "userId": "18356117093765644087"
     },
     "user_tz": -180
    },
    "id": "6kTVzwSOHmZo"
   },
   "outputs": [],
   "source": [
    "import re\n",
    "\n",
    "def apply_stemmer(x):\n",
    "  disease = str(x)\n",
    "  # remove ICD-10 codes\n",
    "  cleaned = re.sub(r\"[A-ZА-Я][0-9]{2}.[0-9]\", \" \",  disease);\n",
    "  cleaned = re.sub(r\"[A-ZА-Я][0-9]{2}\", \" \",  cleaned);\n",
    "  cleaned = re.sub('[^0-9a-zA-ZА-Яа-я% ]+', ' ', cleaned)\n",
    "  cleaned = cleaned.lower()\n",
    "  tokens = cleaned.split();\n",
    "  stems = [];\n",
    "  for token in tokens:\n",
    "    if(not(token in stopwordsList)):\n",
    "      stem = stemmer.stem(token);\n",
    "      stems.append(stem);\n",
    "  result = \" \".join(stems);\n",
    "  return result;"
   ]
  },
  {
   "cell_type": "code",
   "execution_count": 38,
   "metadata": {
    "colab": {
     "base_uri": "https://localhost:8080/",
     "height": 35
    },
    "colab_type": "code",
    "executionInfo": {
     "elapsed": 554,
     "status": "ok",
     "timestamp": 1593203320297,
     "user": {
      "displayName": "Sylvia Vassileva",
      "photoUrl": "https://lh3.googleusercontent.com/a-/AOh14GhWuuQVwWdtTS1dFYuVP6TvBWkYX4dTELYnzKEZ0g=s64",
      "userId": "18356117093765644087"
     },
     "user_tz": -180
    },
    "id": "P_xc1KAzKE4A",
    "outputId": "66121b42-3197-48d3-a501-ee8a3989afe7"
   },
   "outputs": [
    {
     "data": {
      "text/plain": [
       "'монозом 2п15 п16 1'"
      ]
     },
     "execution_count": 38,
     "metadata": {},
     "output_type": "execute_result"
    }
   ],
   "source": [
    "apply_stemmer('монозомíа 2п15 п16.1')"
   ]
  },
  {
   "cell_type": "code",
   "execution_count": 39,
   "metadata": {
    "colab": {},
    "colab_type": "code",
    "executionInfo": {
     "elapsed": 578,
     "status": "ok",
     "timestamp": 1593209954018,
     "user": {
      "displayName": "Sylvia Vassileva",
      "photoUrl": "https://lh3.googleusercontent.com/a-/AOh14GhWuuQVwWdtTS1dFYuVP6TvBWkYX4dTELYnzKEZ0g=s64",
      "userId": "18356117093765644087"
     },
     "user_tz": -180
    },
    "id": "oVEFYB5Zu3Da"
   },
   "outputs": [],
   "source": [
    "invalidValues = ['#value!', '#VALUE!', '#наме?']\n",
    "df_4sign_filtered = df_4sign[~df_4sign[TEXT_COLUMN].isin(invalidValues)];\n",
    "df_3sign_filtered = df_3sign[~df_3sign[TEXT_COLUMN].isin(invalidValues)];"
   ]
  },
  {
   "cell_type": "code",
   "execution_count": 40,
   "metadata": {
    "colab": {
     "base_uri": "https://localhost:8080/",
     "height": 238
    },
    "colab_type": "code",
    "executionInfo": {
     "elapsed": 26990,
     "status": "ok",
     "timestamp": 1593203446893,
     "user": {
      "displayName": "Sylvia Vassileva",
      "photoUrl": "https://lh3.googleusercontent.com/a-/AOh14GhWuuQVwWdtTS1dFYuVP6TvBWkYX4dTELYnzKEZ0g=s64",
      "userId": "18356117093765644087"
     },
     "user_tz": -180
    },
    "id": "BVc42ToVZfQA",
    "outputId": "c28ef01e-8e2d-401e-8239-6ba91843dd8b"
   },
   "outputs": [
    {
     "name": "stdout",
     "output_type": "stream",
     "text": [
      "(377937, 2)\n"
     ]
    },
    {
     "data": {
      "text/html": [
       "<div>\n",
       "<style scoped>\n",
       "    .dataframe tbody tr th:only-of-type {\n",
       "        vertical-align: middle;\n",
       "    }\n",
       "\n",
       "    .dataframe tbody tr th {\n",
       "        vertical-align: top;\n",
       "    }\n",
       "\n",
       "    .dataframe thead th {\n",
       "        text-align: right;\n",
       "    }\n",
       "</style>\n",
       "<table border=\"1\" class=\"dataframe\">\n",
       "  <thead>\n",
       "    <tr style=\"text-align: right;\">\n",
       "      <th></th>\n",
       "      <th>ICD10</th>\n",
       "      <th>Text</th>\n",
       "    </tr>\n",
       "  </thead>\n",
       "  <tbody>\n",
       "    <tr>\n",
       "      <th>0</th>\n",
       "      <td>A00</td>\n",
       "      <td>холер</td>\n",
       "    </tr>\n",
       "    <tr>\n",
       "      <th>1</th>\n",
       "      <td>A00.0</td>\n",
       "      <td>холер предизвика холер вибрион 01 биовар cholerae</td>\n",
       "    </tr>\n",
       "    <tr>\n",
       "      <th>2</th>\n",
       "      <td>A00.1</td>\n",
       "      <td>холер предизвика холер вибрион 01 биовар eltor</td>\n",
       "    </tr>\n",
       "    <tr>\n",
       "      <th>3</th>\n",
       "      <td>A00.9</td>\n",
       "      <td>холер неуточн</td>\n",
       "    </tr>\n",
       "    <tr>\n",
       "      <th>4</th>\n",
       "      <td>A01</td>\n",
       "      <td>тиф паратиф</td>\n",
       "    </tr>\n",
       "  </tbody>\n",
       "</table>\n",
       "</div>"
      ],
      "text/plain": [
       "   ICD10                                               Text\n",
       "0    A00                                              холер\n",
       "1  A00.0  холер предизвика холер вибрион 01 биовар cholerae\n",
       "2  A00.1     холер предизвика холер вибрион 01 биовар eltor\n",
       "3  A00.9                                      холер неуточн\n",
       "4    A01                                        тиф паратиф"
      ]
     },
     "execution_count": 40,
     "metadata": {},
     "output_type": "execute_result"
    }
   ],
   "source": [
    "df_4sign_stemmed = pd.DataFrame({\n",
    "            LABEL_COLUMN:df_4sign_filtered[LABEL_COLUMN],\n",
    "            TEXT_COLUMN:df_4sign_filtered[TEXT_COLUMN].apply(lambda x: apply_stemmer(x))\n",
    "            })\n",
    "print(df_4sign_stemmed.shape)\n",
    "\n",
    "df_4sign_stemmed.head()"
   ]
  },
  {
   "cell_type": "code",
   "execution_count": 41,
   "metadata": {},
   "outputs": [
    {
     "name": "stdout",
     "output_type": "stream",
     "text": [
      "(189253, 2)\n"
     ]
    },
    {
     "data": {
      "text/html": [
       "<div>\n",
       "<style scoped>\n",
       "    .dataframe tbody tr th:only-of-type {\n",
       "        vertical-align: middle;\n",
       "    }\n",
       "\n",
       "    .dataframe tbody tr th {\n",
       "        vertical-align: top;\n",
       "    }\n",
       "\n",
       "    .dataframe thead th {\n",
       "        text-align: right;\n",
       "    }\n",
       "</style>\n",
       "<table border=\"1\" class=\"dataframe\">\n",
       "  <thead>\n",
       "    <tr style=\"text-align: right;\">\n",
       "      <th></th>\n",
       "      <th>ICD10</th>\n",
       "      <th>Text</th>\n",
       "    </tr>\n",
       "  </thead>\n",
       "  <tbody>\n",
       "    <tr>\n",
       "      <th>0</th>\n",
       "      <td>A00</td>\n",
       "      <td>холер</td>\n",
       "    </tr>\n",
       "    <tr>\n",
       "      <th>1</th>\n",
       "      <td>A00</td>\n",
       "      <td>холер предизвика холер вибрион 01 биовар cholerae</td>\n",
       "    </tr>\n",
       "    <tr>\n",
       "      <th>2</th>\n",
       "      <td>A00</td>\n",
       "      <td>холер предизвика холер вибрион 01 биовар eltor</td>\n",
       "    </tr>\n",
       "    <tr>\n",
       "      <th>3</th>\n",
       "      <td>A00</td>\n",
       "      <td>холер неуточн</td>\n",
       "    </tr>\n",
       "    <tr>\n",
       "      <th>4</th>\n",
       "      <td>A01</td>\n",
       "      <td>тиф паратиф</td>\n",
       "    </tr>\n",
       "  </tbody>\n",
       "</table>\n",
       "</div>"
      ],
      "text/plain": [
       "  ICD10                                               Text\n",
       "0   A00                                              холер\n",
       "1   A00  холер предизвика холер вибрион 01 биовар cholerae\n",
       "2   A00     холер предизвика холер вибрион 01 биовар eltor\n",
       "3   A00                                      холер неуточн\n",
       "4   A01                                        тиф паратиф"
      ]
     },
     "execution_count": 41,
     "metadata": {},
     "output_type": "execute_result"
    }
   ],
   "source": [
    "df_3sign_stemmed = pd.DataFrame({\n",
    "            LABEL_COLUMN:df_3sign_filtered[LABEL_COLUMN],\n",
    "            TEXT_COLUMN:df_3sign_filtered[TEXT_COLUMN].apply(lambda x: apply_stemmer(x))\n",
    "            })\n",
    "print(df_3sign_stemmed.shape)\n",
    "\n",
    "df_3sign_stemmed.head()"
   ]
  },
  {
   "cell_type": "code",
   "execution_count": 42,
   "metadata": {
    "colab": {
     "base_uri": "https://localhost:8080/",
     "height": 34
    },
    "colab_type": "code",
    "executionInfo": {
     "elapsed": 3567,
     "status": "ok",
     "timestamp": 1593203520263,
     "user": {
      "displayName": "Sylvia Vassileva",
      "photoUrl": "https://lh3.googleusercontent.com/a-/AOh14GhWuuQVwWdtTS1dFYuVP6TvBWkYX4dTELYnzKEZ0g=s64",
      "userId": "18356117093765644087"
     },
     "user_tz": -180
    },
    "id": "UtMaEwbkSgCK",
    "outputId": "3a5c6abe-f17d-463f-f01d-b431d328893c"
   },
   "outputs": [
    {
     "name": "stdout",
     "output_type": "stream",
     "text": [
      "[]\n"
     ]
    }
   ],
   "source": [
    "# validate all codes are valid classes, result should be empty\n",
    "differences_4sign = np.setdiff1d(df_4sign_stemmed[LABEL_COLUMN], classes_4sign[LABEL_COLUMN])\n",
    "\n",
    "print(differences_4sign)"
   ]
  },
  {
   "cell_type": "code",
   "execution_count": 43,
   "metadata": {},
   "outputs": [
    {
     "name": "stdout",
     "output_type": "stream",
     "text": [
      "[]\n"
     ]
    }
   ],
   "source": [
    "# validate all codes are valid classes, result should be empty\n",
    "differences_3sign = np.setdiff1d(df_3sign_stemmed[LABEL_COLUMN], classes_3sign[LABEL_COLUMN])\n",
    "\n",
    "print(differences_3sign)"
   ]
  },
  {
   "cell_type": "markdown",
   "metadata": {},
   "source": [
    "# Augment Classes with Low Representation"
   ]
  },
  {
   "cell_type": "code",
   "execution_count": 44,
   "metadata": {
    "colab": {
     "base_uri": "https://localhost:8080/",
     "height": 34
    },
    "colab_type": "code",
    "executionInfo": {
     "elapsed": 596,
     "status": "ok",
     "timestamp": 1593203523182,
     "user": {
      "displayName": "Sylvia Vassileva",
      "photoUrl": "https://lh3.googleusercontent.com/a-/AOh14GhWuuQVwWdtTS1dFYuVP6TvBWkYX4dTELYnzKEZ0g=s64",
      "userId": "18356117093765644087"
     },
     "user_tz": -180
    },
    "id": "ex0MbqhLNQqF",
    "outputId": "36cfa8e0-d09d-4b69-ab12-45a038653127"
   },
   "outputs": [
    {
     "data": {
      "text/plain": [
       "2495"
      ]
     },
     "execution_count": 44,
     "metadata": {},
     "output_type": "execute_result"
    }
   ],
   "source": [
    "groups_4sign = df_4sign_stemmed.groupby(LABEL_COLUMN).count().reset_index()\n",
    "small_classes_4sign = groups_4sign[groups_4sign[TEXT_COLUMN] < 3][LABEL_COLUMN]\n",
    "len(small_classes_4sign)"
   ]
  },
  {
   "cell_type": "code",
   "execution_count": 45,
   "metadata": {
    "colab": {
     "base_uri": "https://localhost:8080/",
     "height": 221
    },
    "colab_type": "code",
    "executionInfo": {
     "elapsed": 785,
     "status": "ok",
     "timestamp": 1593105896849,
     "user": {
      "displayName": "Sylvia Vassileva",
      "photoUrl": "https://lh3.googleusercontent.com/a-/AOh14GhWuuQVwWdtTS1dFYuVP6TvBWkYX4dTELYnzKEZ0g=s64",
      "userId": "18356117093765644087"
     },
     "user_tz": -180
    },
    "id": "ELLUnIA2DI2M",
    "outputId": "bd57cf1c-dafa-4ed2-a548-27bced0f0094"
   },
   "outputs": [
    {
     "data": {
      "text/plain": [
       "38       A05.3\n",
       "39       A05.4\n",
       "70       A15.1\n",
       "71       A15.2\n",
       "72       A15.3\n",
       "80       A16.0\n",
       "81       A16.1\n",
       "90       A17.0\n",
       "91       A17.1\n",
       "93       A17.9\n",
       "105      A19.0\n",
       "107      A19.2\n",
       "114      A20.3\n",
       "149      A25.9\n",
       "172      A30.8\n",
       "213      A40.2\n",
       "215      A40.8\n",
       "218      A41.0\n",
       "221      A41.3\n",
       "241      A44.8\n",
       "252      A49.0\n",
       "254      A49.2\n",
       "255      A49.3\n",
       "301      A56.2\n",
       "314      A60.9\n",
       "317      A63.8\n",
       "399      A83.6\n",
       "408      A85.0\n",
       "409      A85.1\n",
       "423        A89\n",
       "         ...  \n",
       "10835    Z85.4\n",
       "10836    Z85.5\n",
       "10837    Z85.6\n",
       "10840    Z85.9\n",
       "10849    Z86.7\n",
       "10851    Z87.0\n",
       "10852    Z87.1\n",
       "10857    Z87.6\n",
       "10861    Z88.0\n",
       "10863    Z88.2\n",
       "10864    Z88.3\n",
       "10866    Z88.5\n",
       "10867    Z88.6\n",
       "10893    Z91.0\n",
       "10902    Z92.0\n",
       "10906    Z92.4\n",
       "10908    Z92.8\n",
       "10909    Z92.9\n",
       "10915    Z93.4\n",
       "10921    Z94.0\n",
       "10922    Z94.1\n",
       "10923    Z94.2\n",
       "10925    Z94.4\n",
       "10926    Z94.5\n",
       "10927    Z94.6\n",
       "10928    Z94.7\n",
       "10965    Z99.0\n",
       "10966    Z99.1\n",
       "10968    Z99.3\n",
       "10970    Z99.9\n",
       "Name: ICD10, Length: 2495, dtype: object"
      ]
     },
     "execution_count": 45,
     "metadata": {},
     "output_type": "execute_result"
    }
   ],
   "source": [
    "small_classes_4sign"
   ]
  },
  {
   "cell_type": "code",
   "execution_count": 46,
   "metadata": {
    "colab": {},
    "colab_type": "code",
    "id": "8Ibf1m1dSsRL"
   },
   "outputs": [],
   "source": [
    "df_small_classes_4sign = df_4sign_stemmed[df_4sign_stemmed[LABEL_COLUMN].isin(small_classes_4sign)]"
   ]
  },
  {
   "cell_type": "code",
   "execution_count": 47,
   "metadata": {
    "colab": {},
    "colab_type": "code",
    "id": "M9Dfp4JQkyKj"
   },
   "outputs": [],
   "source": [
    "df_small_classes_4sign.to_csv('{0}small_classes_4sign.csv'.format(BASE_PATH), sep=',', index=False, header=True)"
   ]
  },
  {
   "cell_type": "code",
   "execution_count": 48,
   "metadata": {},
   "outputs": [
    {
     "data": {
      "text/plain": [
       "343"
      ]
     },
     "execution_count": 48,
     "metadata": {},
     "output_type": "execute_result"
    }
   ],
   "source": [
    "groups_3sign = df_3sign_stemmed.groupby(LABEL_COLUMN).count().reset_index()\n",
    "small_classes_3sign = groups_3sign[groups_3sign[TEXT_COLUMN] < 3][LABEL_COLUMN]\n",
    "len(small_classes_3sign)"
   ]
  },
  {
   "cell_type": "code",
   "execution_count": 49,
   "metadata": {},
   "outputs": [
    {
     "data": {
      "text/plain": [
       "76      A89\n",
       "85      A99\n",
       "163     B91\n",
       "164     B92\n",
       "257     C97\n",
       "332     D77\n",
       "393     E68\n",
       "412     E90\n",
       "492     G01\n",
       "498     G07\n",
       "507     G22\n",
       "511     G26\n",
       "621     H82\n",
       "761     J91\n",
       "851     L14\n",
       "868     L45\n",
       "871     L52\n",
       "899     L86\n",
       "1144    O96\n",
       "1193    P75\n",
       "1367    R81\n",
       "1369    R83\n",
       "1377    R92\n",
       "1400    S16\n",
       "1491    T07\n",
       "1492    T08\n",
       "1494    T10\n",
       "1496    T12\n",
       "1539    T55\n",
       "1548    T64\n",
       "       ... \n",
       "1885    Y25\n",
       "1886    Y26\n",
       "1887    Y27\n",
       "1888    Y28\n",
       "1889    Y29\n",
       "1890    Y30\n",
       "1891    Y31\n",
       "1892    Y32\n",
       "1893    Y33\n",
       "1894    Y34\n",
       "1923    Y66\n",
       "1924    Y69\n",
       "1925    Y70\n",
       "1926    Y71\n",
       "1927    Y72\n",
       "1928    Y73\n",
       "1929    Y74\n",
       "1930    Y75\n",
       "1931    Y76\n",
       "1932    Y77\n",
       "1933    Y78\n",
       "1934    Y79\n",
       "1935    Y80\n",
       "1936    Y81\n",
       "1937    Y82\n",
       "1941    Y86\n",
       "1947    Y95\n",
       "1948    Y96\n",
       "1949    Y97\n",
       "1950    Y98\n",
       "Name: ICD10, Length: 343, dtype: object"
      ]
     },
     "execution_count": 49,
     "metadata": {},
     "output_type": "execute_result"
    }
   ],
   "source": [
    "small_classes_3sign"
   ]
  },
  {
   "cell_type": "code",
   "execution_count": 50,
   "metadata": {},
   "outputs": [],
   "source": [
    "df_small_classes_3sign = df_3sign_stemmed[df_3sign_stemmed[LABEL_COLUMN].isin(small_classes_3sign)]"
   ]
  },
  {
   "cell_type": "code",
   "execution_count": 51,
   "metadata": {},
   "outputs": [],
   "source": [
    "df_small_classes_3sign.to_csv('{0}small_classes_3sign.csv'.format(BASE_PATH), sep=',', index=False, header=True)"
   ]
  },
  {
   "cell_type": "code",
   "execution_count": 52,
   "metadata": {
    "colab": {
     "base_uri": "https://localhost:8080/",
     "height": 357
    },
    "colab_type": "code",
    "executionInfo": {
     "elapsed": 4387,
     "status": "ok",
     "timestamp": 1593203534088,
     "user": {
      "displayName": "Sylvia Vassileva",
      "photoUrl": "https://lh3.googleusercontent.com/a-/AOh14GhWuuQVwWdtTS1dFYuVP6TvBWkYX4dTELYnzKEZ0g=s64",
      "userId": "18356117093765644087"
     },
     "user_tz": -180
    },
    "id": "ZIjGlMD_GhMm",
    "outputId": "026c1ebc-b72c-482a-e2f2-e9f7210a0951"
   },
   "outputs": [
    {
     "name": "stdout",
     "output_type": "stream",
     "text": [
      "Requirement already satisfied: nlpaug in c:\\users\\sylvia.vassileva\\anaconda3\\lib\\site-packages (0.0.14)\n",
      "Requirement already satisfied: numpy in c:\\users\\sylvia.vassileva\\anaconda3\\lib\\site-packages (1.18.1)\n",
      "Requirement already satisfied: matplotlib in c:\\users\\sylvia.vassileva\\anaconda3\\lib\\site-packages (3.1.3)\n",
      "Requirement already satisfied: python-dotenv in c:\\users\\sylvia.vassileva\\anaconda3\\lib\\site-packages (0.13.0)\n",
      "Requirement already satisfied: setuptools in c:\\users\\sylvia.vassileva\\anaconda3\\lib\\site-packages (45.2.0.post20200210)\n",
      "Requirement already satisfied: requests in c:\\users\\sylvia.vassileva\\appdata\\roaming\\python\\python37\\site-packages (2.21.0)\n",
      "Requirement already satisfied: kiwisolver>=1.0.1 in c:\\users\\sylvia.vassileva\\anaconda3\\lib\\site-packages (from matplotlib) (1.1.0)\n",
      "Requirement already satisfied: python-dateutil>=2.1 in c:\\users\\sylvia.vassileva\\anaconda3\\lib\\site-packages (from matplotlib) (2.8.1)\n",
      "Requirement already satisfied: cycler>=0.10 in c:\\users\\sylvia.vassileva\\anaconda3\\lib\\site-packages (from matplotlib) (0.10.0)\n",
      "Requirement already satisfied: pyparsing!=2.0.4,!=2.1.2,!=2.1.6,>=2.0.1 in c:\\users\\sylvia.vassileva\\anaconda3\\lib\\site-packages (from matplotlib) (2.4.6)\n",
      "Requirement already satisfied: urllib3<1.25,>=1.21.1 in c:\\users\\sylvia.vassileva\\appdata\\roaming\\python\\python37\\site-packages (from requests) (1.24.3)\n",
      "Requirement already satisfied: certifi>=2017.4.17 in c:\\users\\sylvia.vassileva\\anaconda3\\lib\\site-packages (from requests) (2019.11.28)\n",
      "Requirement already satisfied: chardet<3.1.0,>=3.0.2 in c:\\users\\sylvia.vassileva\\anaconda3\\lib\\site-packages (from requests) (3.0.4)\n",
      "Requirement already satisfied: idna<2.9,>=2.5 in c:\\users\\sylvia.vassileva\\anaconda3\\lib\\site-packages (from requests) (2.8)\n",
      "Requirement already satisfied: six>=1.5 in c:\\users\\sylvia.vassileva\\anaconda3\\lib\\site-packages (from python-dateutil>=2.1->matplotlib) (1.12.0)\n"
     ]
    }
   ],
   "source": [
    "!pip install nlpaug numpy matplotlib python-dotenv setuptools requests"
   ]
  },
  {
   "cell_type": "code",
   "execution_count": 53,
   "metadata": {
    "colab": {},
    "colab_type": "code",
    "id": "oWI9BJdMGmzq"
   },
   "outputs": [],
   "source": [
    "import nlpaug.augmenter.char as nac\n",
    "import nlpaug.augmenter.word as nacw"
   ]
  },
  {
   "cell_type": "code",
   "execution_count": 54,
   "metadata": {
    "colab": {
     "base_uri": "https://localhost:8080/",
     "height": 35
    },
    "colab_type": "code",
    "executionInfo": {
     "elapsed": 528,
     "status": "ok",
     "timestamp": 1593203681791,
     "user": {
      "displayName": "Sylvia Vassileva",
      "photoUrl": "https://lh3.googleusercontent.com/a-/AOh14GhWuuQVwWdtTS1dFYuVP6TvBWkYX4dTELYnzKEZ0g=s64",
      "userId": "18356117093765644087"
     },
     "user_tz": -180
    },
    "id": "KO0G57QjVfLd",
    "outputId": "6c319b48-bfe9-4987-b59d-b7579082d30d"
   },
   "outputs": [
    {
     "data": {
      "text/plain": [
       "'е това проба на аугментация'"
      ]
     },
     "execution_count": 54,
     "metadata": {},
     "output_type": "execute_result"
    }
   ],
   "source": [
    "aug_word = nacw.RandomWordAug(action=\"swap\")\n",
    "aug_word.augment('това е проба на аугментация')"
   ]
  },
  {
   "cell_type": "code",
   "execution_count": 55,
   "metadata": {
    "colab": {},
    "colab_type": "code",
    "id": "U5E_XBXIF-7s"
   },
   "outputs": [],
   "source": [
    "aug_char = nac.RandomCharAug(action=\"swap\")\n",
    "aug_word = nacw.RandomWordAug(action=\"swap\")\n",
    "\n",
    "def augment_text(text):\n",
    "  tokens = text.split(' ')\n",
    "  tokens_len = len(tokens)\n",
    "  if tokens_len == 1:\n",
    "    augmented_text = aug_char.augment(text)\n",
    "  else:    \n",
    "    augmented_text = aug_word.augment(text)\n",
    "\n",
    "  return augmented_text"
   ]
  },
  {
   "cell_type": "code",
   "execution_count": 56,
   "metadata": {
    "colab": {},
    "colab_type": "code",
    "id": "a4aBsXgSGC5Y"
   },
   "outputs": [],
   "source": [
    "dfs_augmented_4sign = []\n",
    "augment_iterations = 2\n",
    "\n",
    "for i in range(augment_iterations):\n",
    "  df_augmented = pd.DataFrame({\n",
    "            TEXT_COLUMN:df_small_classes_4sign[TEXT_COLUMN].apply(lambda x: augment_text(x)),\n",
    "            LABEL_COLUMN:df_small_classes_4sign[LABEL_COLUMN]\n",
    "            })\n",
    "  dfs_augmented_4sign.append(df_augmented)"
   ]
  },
  {
   "cell_type": "code",
   "execution_count": 57,
   "metadata": {
    "colab": {},
    "colab_type": "code",
    "id": "JBARqICWTZcY"
   },
   "outputs": [
    {
     "name": "stderr",
     "output_type": "stream",
     "text": [
      "C:\\Users\\sylvia.vassileva\\Anaconda3\\lib\\site-packages\\ipykernel_launcher.py:2: FutureWarning: Sorting because non-concatenation axis is not aligned. A future version\n",
      "of pandas will change to not sort by default.\n",
      "\n",
      "To accept the future behavior, pass 'sort=False'.\n",
      "\n",
      "To retain the current behavior and silence the warning, pass 'sort=True'.\n",
      "\n",
      "  \n"
     ]
    }
   ],
   "source": [
    "dfs_augmented_4sign.append(df_4sign_stemmed)\n",
    "df_augmented_4sign = pd.concat(dfs_augmented_4sign, ignore_index=True)"
   ]
  },
  {
   "cell_type": "code",
   "execution_count": 58,
   "metadata": {
    "colab": {},
    "colab_type": "code",
    "id": "mG7cCd6ClHMC"
   },
   "outputs": [],
   "source": [
    "df_augmented_4sign.to_csv('{0}dataset-4.csv'.format(BASE_PATH), sep=',', index=False, header=True)"
   ]
  },
  {
   "cell_type": "code",
   "execution_count": 59,
   "metadata": {
    "colab": {},
    "colab_type": "code",
    "executionInfo": {
     "elapsed": 594,
     "status": "ok",
     "timestamp": 1593210201876,
     "user": {
      "displayName": "Sylvia Vassileva",
      "photoUrl": "https://lh3.googleusercontent.com/a-/AOh14GhWuuQVwWdtTS1dFYuVP6TvBWkYX4dTELYnzKEZ0g=s64",
      "userId": "18356117093765644087"
     },
     "user_tz": -180
    },
    "id": "Qeqo1wVXuj0B"
   },
   "outputs": [],
   "source": [
    "dfs_augmented_3sign = []\n",
    "augment_iterations = 2\n",
    "\n",
    "for i in range(augment_iterations):\n",
    "  df_augmented = pd.DataFrame({\n",
    "            TEXT_COLUMN:df_small_classes_3sign[TEXT_COLUMN].apply(lambda x: augment_text(x)),\n",
    "            LABEL_COLUMN:df_small_classes_3sign[LABEL_COLUMN]\n",
    "            })\n",
    "  dfs_augmented_3sign.append(df_augmented)"
   ]
  },
  {
   "cell_type": "code",
   "execution_count": 60,
   "metadata": {
    "colab": {},
    "colab_type": "code",
    "executionInfo": {
     "elapsed": 596,
     "status": "ok",
     "timestamp": 1593210228179,
     "user": {
      "displayName": "Sylvia Vassileva",
      "photoUrl": "https://lh3.googleusercontent.com/a-/AOh14GhWuuQVwWdtTS1dFYuVP6TvBWkYX4dTELYnzKEZ0g=s64",
      "userId": "18356117093765644087"
     },
     "user_tz": -180
    },
    "id": "LHsLcnn_uomg"
   },
   "outputs": [
    {
     "name": "stderr",
     "output_type": "stream",
     "text": [
      "C:\\Users\\sylvia.vassileva\\Anaconda3\\lib\\site-packages\\ipykernel_launcher.py:2: FutureWarning: Sorting because non-concatenation axis is not aligned. A future version\n",
      "of pandas will change to not sort by default.\n",
      "\n",
      "To accept the future behavior, pass 'sort=False'.\n",
      "\n",
      "To retain the current behavior and silence the warning, pass 'sort=True'.\n",
      "\n",
      "  \n"
     ]
    }
   ],
   "source": [
    "dfs_augmented_3sign.append(df_3sign_stemmed)\n",
    "df_augmented_3sign = pd.concat(dfs_augmented_3sign, ignore_index=True)"
   ]
  },
  {
   "cell_type": "code",
   "execution_count": 61,
   "metadata": {
    "colab": {},
    "colab_type": "code",
    "id": "jcMmmAnDm30l"
   },
   "outputs": [],
   "source": [
    "df_augmented_3sign.to_csv('{0}dataset-3.csv'.format(BASE_PATH), sep=',', index=False, header=True)"
   ]
  },
  {
   "cell_type": "code",
   "execution_count": null,
   "metadata": {},
   "outputs": [],
   "source": []
  }
 ],
 "metadata": {
  "colab": {
   "authorship_tag": "ABX9TyPKPlgikv+16F/sZKEE+nbG",
   "collapsed_sections": [],
   "name": "Prepare-Data-ICD10",
   "provenance": []
  },
  "kernelspec": {
   "display_name": "Python 3",
   "language": "python",
   "name": "python3"
  },
  "language_info": {
   "codemirror_mode": {
    "name": "ipython",
    "version": 3
   },
   "file_extension": ".py",
   "mimetype": "text/x-python",
   "name": "python",
   "nbconvert_exporter": "python",
   "pygments_lexer": "ipython3",
   "version": "3.7.6"
  }
 },
 "nbformat": 4,
 "nbformat_minor": 1
}
