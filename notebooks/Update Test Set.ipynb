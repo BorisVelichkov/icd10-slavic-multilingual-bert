{
 "cells": [
  {
   "cell_type": "code",
   "execution_count": 1,
   "metadata": {},
   "outputs": [],
   "source": [
    "BASE_PATH = '..\\\\data\\\\'\n",
    "ORIGINAL_BASE_PATH = '..\\\\data\\\\original\\\\'\n",
    "DIR_SEPARATOR = '\\\\' # /\n",
    "\n",
    "LABEL_COLUMN = 'ICD10'\n",
    "TEXT_COLUMN = 'Text'\n",
    "PRED_CLASS = 'pred_class'\n",
    "ORIGINAL_TEXT = 'original_text'\n",
    "ALT_LABELS = 'alt_labels'"
   ]
  },
  {
   "cell_type": "code",
   "execution_count": 2,
   "metadata": {},
   "outputs": [],
   "source": [
    "import pandas as pd\n",
    "from sklearn.preprocessing import LabelEncoder\n",
    "from sklearn.model_selection import train_test_split\n",
    "from pandas import DataFrame\n",
    "import numpy as np"
   ]
  },
  {
   "cell_type": "code",
   "execution_count": 3,
   "metadata": {},
   "outputs": [],
   "source": [
    "import os\n",
    "from os import path"
   ]
  },
  {
   "cell_type": "code",
   "execution_count": 4,
   "metadata": {},
   "outputs": [],
   "source": [
    "file_name = '{0}train-4.csv'.format(BASE_PATH)\n",
    "train_df = pd.read_csv(file_name)"
   ]
  },
  {
   "cell_type": "code",
   "execution_count": 5,
   "metadata": {},
   "outputs": [],
   "source": [
    "file_name = '{0}test-4.csv'.format(BASE_PATH)\n",
    "test_df = pd.read_csv(file_name)"
   ]
  },
  {
   "cell_type": "code",
   "execution_count": 6,
   "metadata": {},
   "outputs": [],
   "source": [
    "file_name = '{0}dev-4.csv'.format(BASE_PATH)\n",
    "dev_df = pd.read_csv(file_name)"
   ]
  },
  {
   "cell_type": "code",
   "execution_count": 7,
   "metadata": {},
   "outputs": [],
   "source": [
    "train_df[TEXT_COLUMN] = train_df[TEXT_COLUMN].apply(lambda x:  str(x))\n",
    "dev_df[TEXT_COLUMN] = dev_df[TEXT_COLUMN].apply(lambda x:  str(x))\n",
    "test_df[TEXT_COLUMN] = test_df[TEXT_COLUMN].apply(lambda x:  str(x))"
   ]
  },
  {
   "cell_type": "code",
   "execution_count": 8,
   "metadata": {},
   "outputs": [],
   "source": [
    "train_array = train_df[TEXT_COLUMN].to_numpy()\n",
    "test_array = test_df[TEXT_COLUMN].to_numpy()\n",
    "dev_array = dev_df[TEXT_COLUMN].to_numpy()"
   ]
  },
  {
   "cell_type": "code",
   "execution_count": 9,
   "metadata": {},
   "outputs": [],
   "source": [
    "intersection_test = np.intersect1d(test_array, train_array)"
   ]
  },
  {
   "cell_type": "code",
   "execution_count": 10,
   "metadata": {},
   "outputs": [],
   "source": [
    "intersection_dev = np.intersect1d(dev_array, train_array)"
   ]
  },
  {
   "cell_type": "code",
   "execution_count": 11,
   "metadata": {},
   "outputs": [
    {
     "data": {
      "text/plain": [
       "0.727554268345138"
      ]
     },
     "execution_count": 11,
     "metadata": {},
     "output_type": "execute_result"
    }
   ],
   "source": [
    "len(intersection_test)/len(test_array)"
   ]
  },
  {
   "cell_type": "code",
   "execution_count": 12,
   "metadata": {},
   "outputs": [
    {
     "data": {
      "text/plain": [
       "0.7280442590661569"
      ]
     },
     "execution_count": 12,
     "metadata": {},
     "output_type": "execute_result"
    }
   ],
   "source": [
    "len(intersection_dev)/len(dev_array)"
   ]
  },
  {
   "cell_type": "code",
   "execution_count": 13,
   "metadata": {},
   "outputs": [
    {
     "data": {
      "text/html": [
       "<div>\n",
       "<style scoped>\n",
       "    .dataframe tbody tr th:only-of-type {\n",
       "        vertical-align: middle;\n",
       "    }\n",
       "\n",
       "    .dataframe tbody tr th {\n",
       "        vertical-align: top;\n",
       "    }\n",
       "\n",
       "    .dataframe thead th {\n",
       "        text-align: right;\n",
       "    }\n",
       "</style>\n",
       "<table border=\"1\" class=\"dataframe\">\n",
       "  <thead>\n",
       "    <tr style=\"text-align: right;\">\n",
       "      <th></th>\n",
       "      <th>Text</th>\n",
       "      <th>pred_class</th>\n",
       "    </tr>\n",
       "  </thead>\n",
       "  <tbody>\n",
       "    <tr>\n",
       "      <th>0</th>\n",
       "      <td>оклузи закри цервикал кана виж стриктур матк шийк</td>\n",
       "      <td>4153</td>\n",
       "    </tr>\n",
       "    <tr>\n",
       "      <th>1</th>\n",
       "      <td>плазмодиум ебв</td>\n",
       "      <td>414</td>\n",
       "    </tr>\n",
       "    <tr>\n",
       "      <th>2</th>\n",
       "      <td>x примариа дискинезиа сакралис латералис</td>\n",
       "      <td>4826</td>\n",
       "    </tr>\n",
       "    <tr>\n",
       "      <th>3</th>\n",
       "      <td>корози разяждан нараняван каустич химич външ в...</td>\n",
       "      <td>5655</td>\n",
       "    </tr>\n",
       "    <tr>\n",
       "      <th>4</th>\n",
       "      <td>спастикус параплегиа ксксксв аутозома рецессив...</td>\n",
       "      <td>1952</td>\n",
       "    </tr>\n",
       "  </tbody>\n",
       "</table>\n",
       "</div>"
      ],
      "text/plain": [
       "                                                Text  pred_class\n",
       "0  оклузи закри цервикал кана виж стриктур матк шийк        4153\n",
       "1                                     плазмодиум ебв         414\n",
       "2           x примариа дискинезиа сакралис латералис        4826\n",
       "3  корози разяждан нараняван каустич химич външ в...        5655\n",
       "4  спастикус параплегиа ксксксв аутозома рецессив...        1952"
      ]
     },
     "execution_count": 13,
     "metadata": {},
     "output_type": "execute_result"
    }
   ],
   "source": [
    "test_df.head()"
   ]
  },
  {
   "cell_type": "code",
   "execution_count": 14,
   "metadata": {},
   "outputs": [
    {
     "name": "stdout",
     "output_type": "stream",
     "text": [
      "Requirement already satisfied: nlpaug in c:\\users\\sylvia\\anaconda3\\lib\\site-packages (0.0.14)\n",
      "Requirement already satisfied: numpy in c:\\users\\sylvia\\anaconda3\\lib\\site-packages (1.18.0)\n",
      "Requirement already satisfied: matplotlib in c:\\users\\sylvia\\anaconda3\\lib\\site-packages (3.1.3)\n",
      "Requirement already satisfied: python-dotenv in c:\\users\\sylvia\\anaconda3\\lib\\site-packages (0.14.0)\n",
      "Requirement already satisfied: setuptools in c:\\users\\sylvia\\anaconda3\\lib\\site-packages (45.2.0.post20200210)\n",
      "Requirement already satisfied: requests in c:\\users\\sylvia\\anaconda3\\lib\\site-packages (2.22.0)\n",
      "Requirement already satisfied: python-dateutil>=2.1 in c:\\users\\sylvia\\anaconda3\\lib\\site-packages (from matplotlib) (2.8.1)\n",
      "Requirement already satisfied: kiwisolver>=1.0.1 in c:\\users\\sylvia\\anaconda3\\lib\\site-packages (from matplotlib) (1.1.0)\n",
      "Requirement already satisfied: cycler>=0.10 in c:\\users\\sylvia\\anaconda3\\lib\\site-packages (from matplotlib) (0.10.0)\n",
      "Requirement already satisfied: pyparsing!=2.0.4,!=2.1.2,!=2.1.6,>=2.0.1 in c:\\users\\sylvia\\anaconda3\\lib\\site-packages (from matplotlib) (2.4.6)\n",
      "Requirement already satisfied: chardet<3.1.0,>=3.0.2 in c:\\users\\sylvia\\anaconda3\\lib\\site-packages (from requests) (3.0.4)\n",
      "Requirement already satisfied: certifi>=2017.4.17 in c:\\users\\sylvia\\anaconda3\\lib\\site-packages (from requests) (2019.11.28)\n",
      "Requirement already satisfied: idna<2.9,>=2.5 in c:\\users\\sylvia\\anaconda3\\lib\\site-packages (from requests) (2.8)\n",
      "Requirement already satisfied: urllib3!=1.25.0,!=1.25.1,<1.26,>=1.21.1 in c:\\users\\sylvia\\anaconda3\\lib\\site-packages (from requests) (1.25.8)\n",
      "Requirement already satisfied: six>=1.5 in c:\\users\\sylvia\\anaconda3\\lib\\site-packages (from python-dateutil>=2.1->matplotlib) (1.14.0)\n"
     ]
    }
   ],
   "source": [
    "!pip install nlpaug numpy matplotlib python-dotenv setuptools requests"
   ]
  },
  {
   "cell_type": "code",
   "execution_count": 15,
   "metadata": {},
   "outputs": [],
   "source": [
    "import nlpaug.augmenter.char as nac\n",
    "import nlpaug.augmenter.word as nacw"
   ]
  },
  {
   "cell_type": "code",
   "execution_count": 16,
   "metadata": {},
   "outputs": [],
   "source": [
    "# map bg to en keyboard in order to use the nlp aug keyboard augmenter\n",
    "def keyboard_mapping(word, direction, start_positions = []):\n",
    "    bg_en_map = { 'а':'a', 'б':'b', 'в':'w', 'г':'g', 'д':'d', 'е':'e', 'ж':'v', \n",
    "                 'з':'z', 'и':'i', 'й':'j', 'к':'k', 'л':'l', 'м':'m', 'н':'n', 'о':'o', 'п':'p', 'р':'r',\n",
    "                 'с':'s', 'т':'t', 'у':'u', 'ф':'f', 'х':'h', 'ц':'c', 'ч':'`', 'ш':'[', 'щ':']', 'ъ':'y',\n",
    "                 'ь':'x', 'ю':'\\\\', 'я':'q',\n",
    "                 'А':'A', 'Б':'B', 'В':'W', 'Г':'G', 'Д':'D', 'Е':'E', 'Ж':'V', \n",
    "                 'З':'Z', 'И':'I', 'Й':'J', 'К':'K', 'Л':'L', 'М':'M', 'Н':'N', 'О':'O', 'П':'P', 'Р':'R',\n",
    "                 'С':'S', 'Т':'T', 'Ъ':'U', 'Ф':'F', 'Х':'H', 'Ц':'C', 'Ч':'~', 'Ш':'{', 'Щ':'}', 'Ъ':'Y',\n",
    "                 'ѝ':'X', 'Ю':'|', 'Я':'Q'}\n",
    "    \n",
    "    en_bg_map = {v: k for k, v in bg_en_map.items()}\n",
    "    result = ''\n",
    "    \n",
    "    current_map = bg_en_map if direction == 1 else en_bg_map    \n",
    "    positions = []\n",
    "    \n",
    "    i = 0;\n",
    "    for character in word:        \n",
    "        # handle non-mapped characters\n",
    "        if (character in current_map) and ((len(start_positions) == 0) or (i in start_positions)):\n",
    "            result += current_map[character]\n",
    "            positions.append(i)\n",
    "        else:\n",
    "            result += character\n",
    "        i += 1\n",
    "        \n",
    "    return result, positions"
   ]
  },
  {
   "cell_type": "code",
   "execution_count": 17,
   "metadata": {},
   "outputs": [],
   "source": [
    "import random\n",
    "\n",
    "def augment_text(text):\n",
    "  aug_char = [\n",
    "      nac.RandomCharAug(action=\"swap\", aug_char_min=1, min_char=1),\n",
    "      nac.RandomCharAug(action=\"delete\", aug_char_min=1, min_char=1),\n",
    "      nac.KeyboardAug(aug_char_max=1, min_char=1, include_special_char=False, include_numeric=False)\n",
    "  ]\n",
    "\n",
    "  aug_word = [ \n",
    "      #nacw.RandomWordAug(action=\"swap\"),\n",
    "      nac.RandomCharAug(action=\"swap\", aug_char_min=1, min_char=1)\n",
    "  ]\n",
    "  tokens = text.split(' ')\n",
    "  tokens_len = len(tokens)\n",
    "  \n",
    "  augmented_text = text\n",
    "    \n",
    "  if len(text) == 1:\n",
    "    augmented_text = text\n",
    "  elif tokens_len == 1:\n",
    "      aug_number = random.randint(0, 2)\n",
    "      if aug_number == 2: #keyboard        \n",
    "        transliterated, positions = keyboard_mapping(text, 1)\n",
    "        augmented_transliterated = aug_char[aug_number].augment(transliterated)\n",
    "        augmented_text, end_positions = keyboard_mapping(augmented_transliterated, 2, positions)\n",
    "      else:\n",
    "        augmented_text = aug_char[aug_number].augment(text)\n",
    "  else:\n",
    "    aug_number = 0  #random.randrange(2)\n",
    "    if aug_number == 0:\n",
    "      random_word_number = random.randint(0, tokens_len-1)\n",
    "      random_word = tokens[random_word_number]\n",
    "        \n",
    "      i = 1\n",
    "      while len(random_word) < 2 and i < 10:\n",
    "        random_word_number = random.randint(0, tokens_len-1)\n",
    "        random_word = tokens[random_word_number]\n",
    "        i += 1\n",
    "        \n",
    "      if len(random_word) >= 2:\n",
    "          try: \n",
    "              augmented_word = aug_word[aug_number].augment(random_word)\n",
    "              tokens[random_word_number] = augmented_word\n",
    "              augmented_text = ' '.join(tokens)\n",
    "          except:\n",
    "            print(text)\n",
    "      else:\n",
    "        try:\n",
    "            augmented_text = aug_word[0].augment(text)\n",
    "        except:\n",
    "            print(text)\n",
    "    else:    \n",
    "      try:  \n",
    "          augmented_text = aug_word[aug_number].augment(text)\n",
    "      except:\n",
    "        print(text)\n",
    "\n",
    "  if augmented_text == text:\n",
    "    augmented_text = aug_char[1].augment(augmented_text)\n",
    "\n",
    "  return augmented_text"
   ]
  },
  {
   "cell_type": "code",
   "execution_count": 18,
   "metadata": {},
   "outputs": [
    {
     "data": {
      "text/plain": [
       "'атз'"
      ]
     },
     "execution_count": 18,
     "metadata": {},
     "output_type": "execute_result"
    }
   ],
   "source": [
    "augment_text('таз')"
   ]
  },
  {
   "cell_type": "code",
   "execution_count": 19,
   "metadata": {},
   "outputs": [],
   "source": [
    "new_test_df = pd.DataFrame({\n",
    "        TEXT_COLUMN:test_df[TEXT_COLUMN].apply(lambda x: augment_text(x) if x in intersection_test else x),\n",
    "        PRED_CLASS:test_df[PRED_CLASS],\n",
    "        ORIGINAL_TEXT:test_df[TEXT_COLUMN]\n",
    "        })"
   ]
  },
  {
   "cell_type": "code",
   "execution_count": 20,
   "metadata": {},
   "outputs": [],
   "source": [
    "new_test_array = new_test_df[TEXT_COLUMN].to_numpy()"
   ]
  },
  {
   "cell_type": "code",
   "execution_count": 21,
   "metadata": {},
   "outputs": [],
   "source": [
    "intersection_new_test = np.intersect1d(new_test_array, train_array)"
   ]
  },
  {
   "cell_type": "code",
   "execution_count": 22,
   "metadata": {},
   "outputs": [
    {
     "data": {
      "text/plain": [
       "0.0023227138473890974"
      ]
     },
     "execution_count": 22,
     "metadata": {},
     "output_type": "execute_result"
    }
   ],
   "source": [
    "len(intersection_new_test)/len(new_test_array)"
   ]
  },
  {
   "cell_type": "code",
   "execution_count": 24,
   "metadata": {},
   "outputs": [
    {
     "name": "stdout",
     "output_type": "stream",
     "text": [
      "c a e\n"
     ]
    }
   ],
   "source": [
    "new_dev_df = pd.DataFrame({\n",
    "        TEXT_COLUMN:dev_df[TEXT_COLUMN].apply(lambda x: augment_text(x) if x in intersection_dev else x),\n",
    "        PRED_CLASS:dev_df[PRED_CLASS],\n",
    "        ORIGINAL_TEXT:dev_df[TEXT_COLUMN]\n",
    "        })"
   ]
  },
  {
   "cell_type": "code",
   "execution_count": 25,
   "metadata": {},
   "outputs": [],
   "source": [
    "new_dev_array = new_dev_df[TEXT_COLUMN].to_numpy()"
   ]
  },
  {
   "cell_type": "code",
   "execution_count": 26,
   "metadata": {},
   "outputs": [],
   "source": [
    "intersection_new_dev = np.intersect1d(new_dev_array, train_array)"
   ]
  },
  {
   "cell_type": "code",
   "execution_count": 27,
   "metadata": {},
   "outputs": [
    {
     "data": {
      "text/plain": [
       "0.00202757502027575"
      ]
     },
     "execution_count": 27,
     "metadata": {},
     "output_type": "execute_result"
    }
   ],
   "source": [
    "len(intersection_new_dev)/len(new_dev_array)"
   ]
  },
  {
   "cell_type": "code",
   "execution_count": 29,
   "metadata": {},
   "outputs": [],
   "source": [
    "df_train_dev = pd.concat([train_df, dev_df])\n",
    "label_groups = df_train_dev.groupby(TEXT_COLUMN)\n",
    "alt_labels_df = label_groups[PRED_CLASS].apply(lambda x: x.values).reset_index()\n",
    "alt_labels_df.set_index(TEXT_COLUMN, inplace=True)"
   ]
  },
  {
   "cell_type": "code",
   "execution_count": 30,
   "metadata": {},
   "outputs": [
    {
     "data": {
      "text/html": [
       "<div>\n",
       "<style scoped>\n",
       "    .dataframe tbody tr th:only-of-type {\n",
       "        vertical-align: middle;\n",
       "    }\n",
       "\n",
       "    .dataframe tbody tr th {\n",
       "        vertical-align: top;\n",
       "    }\n",
       "\n",
       "    .dataframe thead th {\n",
       "        text-align: right;\n",
       "    }\n",
       "</style>\n",
       "<table border=\"1\" class=\"dataframe\">\n",
       "  <thead>\n",
       "    <tr style=\"text-align: right;\">\n",
       "      <th></th>\n",
       "      <th>pred_class</th>\n",
       "    </tr>\n",
       "    <tr>\n",
       "      <th>Text</th>\n",
       "      <th></th>\n",
       "    </tr>\n",
       "  </thead>\n",
       "  <tbody>\n",
       "    <tr>\n",
       "      <th>0 genus cpam</th>\n",
       "      <td>[4819, 4820]</td>\n",
       "    </tr>\n",
       "    <tr>\n",
       "      <th>0 genus laryngotracheoesophageal vehementissimo imbri</th>\n",
       "      <td>[4817, 4816]</td>\n",
       "    </tr>\n",
       "    <tr>\n",
       "      <th>0 genus morbo glycogen repono</th>\n",
       "      <td>[1594, 1593]</td>\n",
       "    </tr>\n",
       "    <tr>\n",
       "      <th>0 reipublic s a carcinomate firmo nexu fulcit</th>\n",
       "      <td>[1041, 1039]</td>\n",
       "    </tr>\n",
       "    <tr>\n",
       "      <th>0 scaena pulmonis carcinoma</th>\n",
       "      <td>[1051, 1048]</td>\n",
       "    </tr>\n",
       "  </tbody>\n",
       "</table>\n",
       "</div>"
      ],
      "text/plain": [
       "                                                      pred_class\n",
       "Text                                                            \n",
       "0 genus cpam                                        [4819, 4820]\n",
       "0 genus laryngotracheoesophageal vehementissimo...  [4817, 4816]\n",
       "0 genus morbo glycogen repono                       [1594, 1593]\n",
       "0 reipublic s a carcinomate firmo nexu fulcit       [1041, 1039]\n",
       "0 scaena pulmonis carcinoma                         [1051, 1048]"
      ]
     },
     "execution_count": 30,
     "metadata": {},
     "output_type": "execute_result"
    }
   ],
   "source": [
    "alt_labels_df.head()"
   ]
  },
  {
   "cell_type": "code",
   "execution_count": 31,
   "metadata": {},
   "outputs": [],
   "source": [
    "label_groups_train = train_df.groupby(TEXT_COLUMN)\n",
    "alt_labels_train_df = label_groups_train[PRED_CLASS].apply(lambda x: x.values).reset_index()\n",
    "alt_labels_train_df.set_index(TEXT_COLUMN, inplace=True)"
   ]
  },
  {
   "cell_type": "code",
   "execution_count": 32,
   "metadata": {},
   "outputs": [
    {
     "data": {
      "text/html": [
       "<div>\n",
       "<style scoped>\n",
       "    .dataframe tbody tr th:only-of-type {\n",
       "        vertical-align: middle;\n",
       "    }\n",
       "\n",
       "    .dataframe tbody tr th {\n",
       "        vertical-align: top;\n",
       "    }\n",
       "\n",
       "    .dataframe thead th {\n",
       "        text-align: right;\n",
       "    }\n",
       "</style>\n",
       "<table border=\"1\" class=\"dataframe\">\n",
       "  <thead>\n",
       "    <tr style=\"text-align: right;\">\n",
       "      <th></th>\n",
       "      <th>pred_class</th>\n",
       "    </tr>\n",
       "    <tr>\n",
       "      <th>Text</th>\n",
       "      <th></th>\n",
       "    </tr>\n",
       "  </thead>\n",
       "  <tbody>\n",
       "    <tr>\n",
       "      <th>0 genus cpam</th>\n",
       "      <td>[4819]</td>\n",
       "    </tr>\n",
       "    <tr>\n",
       "      <th>0 genus laryngotracheoesophageal vehementissimo imbri</th>\n",
       "      <td>[4817, 4816]</td>\n",
       "    </tr>\n",
       "    <tr>\n",
       "      <th>0 genus morbo glycogen repono</th>\n",
       "      <td>[1594, 1593]</td>\n",
       "    </tr>\n",
       "    <tr>\n",
       "      <th>0 reipublic s a carcinomate firmo nexu fulcit</th>\n",
       "      <td>[1041, 1039]</td>\n",
       "    </tr>\n",
       "    <tr>\n",
       "      <th>0 scaena pulmonis carcinoma</th>\n",
       "      <td>[1051, 1048]</td>\n",
       "    </tr>\n",
       "  </tbody>\n",
       "</table>\n",
       "</div>"
      ],
      "text/plain": [
       "                                                      pred_class\n",
       "Text                                                            \n",
       "0 genus cpam                                              [4819]\n",
       "0 genus laryngotracheoesophageal vehementissimo...  [4817, 4816]\n",
       "0 genus morbo glycogen repono                       [1594, 1593]\n",
       "0 reipublic s a carcinomate firmo nexu fulcit       [1041, 1039]\n",
       "0 scaena pulmonis carcinoma                         [1051, 1048]"
      ]
     },
     "execution_count": 32,
     "metadata": {},
     "output_type": "execute_result"
    }
   ],
   "source": [
    "alt_labels_train_df.head()"
   ]
  },
  {
   "cell_type": "code",
   "execution_count": 33,
   "metadata": {},
   "outputs": [],
   "source": [
    "def get_alt_labels(text, current_df, alt_df):\n",
    "  if not(text in alt_df.index):  \n",
    "    values = current_df[current_df[TEXT_COLUMN]==text][ORIGINAL_TEXT].values\n",
    "    if len(values) > 0:\n",
    "      text = values[0]\n",
    "    else:\n",
    "      print(text)\n",
    "\n",
    "  if text in alt_df.index:\n",
    "    labels = alt_df.at[text, PRED_CLASS]\n",
    "    return labels\n",
    "  return []"
   ]
  },
  {
   "cell_type": "code",
   "execution_count": 35,
   "metadata": {},
   "outputs": [
    {
     "name": "stdout",
     "output_type": "stream",
     "text": [
      "плазмодиум бев\n"
     ]
    },
    {
     "data": {
      "text/plain": [
       "[]"
      ]
     },
     "execution_count": 35,
     "metadata": {},
     "output_type": "execute_result"
    }
   ],
   "source": [
    "get_alt_labels('плазмодиум бев', new_test_df, alt_labels_df)"
   ]
  },
  {
   "cell_type": "code",
   "execution_count": 36,
   "metadata": {},
   "outputs": [],
   "source": [
    "new_test_df[ALT_LABELS] = new_test_df[TEXT_COLUMN].apply(lambda x: get_alt_labels(x, new_test_df, alt_labels_df))"
   ]
  },
  {
   "cell_type": "code",
   "execution_count": 37,
   "metadata": {},
   "outputs": [
    {
     "data": {
      "text/html": [
       "<div>\n",
       "<style scoped>\n",
       "    .dataframe tbody tr th:only-of-type {\n",
       "        vertical-align: middle;\n",
       "    }\n",
       "\n",
       "    .dataframe tbody tr th {\n",
       "        vertical-align: top;\n",
       "    }\n",
       "\n",
       "    .dataframe thead th {\n",
       "        text-align: right;\n",
       "    }\n",
       "</style>\n",
       "<table border=\"1\" class=\"dataframe\">\n",
       "  <thead>\n",
       "    <tr style=\"text-align: right;\">\n",
       "      <th></th>\n",
       "      <th>Text</th>\n",
       "      <th>pred_class</th>\n",
       "      <th>original_text</th>\n",
       "      <th>alt_labels</th>\n",
       "    </tr>\n",
       "  </thead>\n",
       "  <tbody>\n",
       "    <tr>\n",
       "      <th>0</th>\n",
       "      <td>оклузи закри цервикал кана виж стриктур матк ишйк</td>\n",
       "      <td>4153</td>\n",
       "      <td>оклузи закри цервикал кана виж стриктур матк шийк</td>\n",
       "      <td>[4150]</td>\n",
       "    </tr>\n",
       "    <tr>\n",
       "      <th>1</th>\n",
       "      <td>плазмодиум евб</td>\n",
       "      <td>414</td>\n",
       "      <td>плазмодиум ебв</td>\n",
       "      <td>[413]</td>\n",
       "    </tr>\n",
       "    <tr>\n",
       "      <th>2</th>\n",
       "      <td>x примариа дискинезиа сакралис латрелаис</td>\n",
       "      <td>4826</td>\n",
       "      <td>x примариа дискинезиа сакралис латералис</td>\n",
       "      <td>[4825]</td>\n",
       "    </tr>\n",
       "    <tr>\n",
       "      <th>3</th>\n",
       "      <td>корози разяждан нараняван каустич химич външ в...</td>\n",
       "      <td>5655</td>\n",
       "      <td>корози разяждан нараняван каустич химич външ в...</td>\n",
       "      <td>[]</td>\n",
       "    </tr>\n",
       "    <tr>\n",
       "      <th>4</th>\n",
       "      <td>псастиксу параплегиа ксксксв аутозома рецессив...</td>\n",
       "      <td>1952</td>\n",
       "      <td>спастикус параплегиа ксксксв аутозома рецессив...</td>\n",
       "      <td>[1957]</td>\n",
       "    </tr>\n",
       "  </tbody>\n",
       "</table>\n",
       "</div>"
      ],
      "text/plain": [
       "                                                Text  pred_class  \\\n",
       "0  оклузи закри цервикал кана виж стриктур матк ишйк        4153   \n",
       "1                                     плазмодиум евб         414   \n",
       "2           x примариа дискинезиа сакралис латрелаис        4826   \n",
       "3  корози разяждан нараняван каустич химич външ в...        5655   \n",
       "4  псастиксу параплегиа ксксксв аутозома рецессив...        1952   \n",
       "\n",
       "                                       original_text alt_labels  \n",
       "0  оклузи закри цервикал кана виж стриктур матк шийк     [4150]  \n",
       "1                                     плазмодиум ебв      [413]  \n",
       "2           x примариа дискинезиа сакралис латералис     [4825]  \n",
       "3  корози разяждан нараняван каустич химич външ в...         []  \n",
       "4  спастикус параплегиа ксксксв аутозома рецессив...     [1957]  "
      ]
     },
     "execution_count": 37,
     "metadata": {},
     "output_type": "execute_result"
    }
   ],
   "source": [
    "new_test_df.head()"
   ]
  },
  {
   "cell_type": "code",
   "execution_count": 40,
   "metadata": {},
   "outputs": [],
   "source": [
    "new_test_df.to_csv('{0}test-4.csv'.format(BASE_PATH), header=True, index=False)"
   ]
  },
  {
   "cell_type": "code",
   "execution_count": 38,
   "metadata": {},
   "outputs": [],
   "source": [
    "new_dev_df[ALT_LABELS] = new_dev_df[TEXT_COLUMN].apply(lambda x: get_alt_labels(x, new_dev_df, alt_labels_train_df))"
   ]
  },
  {
   "cell_type": "code",
   "execution_count": 39,
   "metadata": {},
   "outputs": [
    {
     "data": {
      "text/html": [
       "<div>\n",
       "<style scoped>\n",
       "    .dataframe tbody tr th:only-of-type {\n",
       "        vertical-align: middle;\n",
       "    }\n",
       "\n",
       "    .dataframe tbody tr th {\n",
       "        vertical-align: top;\n",
       "    }\n",
       "\n",
       "    .dataframe thead th {\n",
       "        text-align: right;\n",
       "    }\n",
       "</style>\n",
       "<table border=\"1\" class=\"dataframe\">\n",
       "  <thead>\n",
       "    <tr style=\"text-align: right;\">\n",
       "      <th></th>\n",
       "      <th>Text</th>\n",
       "      <th>pred_class</th>\n",
       "      <th>original_text</th>\n",
       "      <th>alt_labels</th>\n",
       "    </tr>\n",
       "  </thead>\n",
       "  <tbody>\n",
       "    <tr>\n",
       "      <th>0</th>\n",
       "      <td>перверз певрезрен апетит</td>\n",
       "      <td>1808</td>\n",
       "      <td>перверз перверзен апетит</td>\n",
       "      <td>[1804]</td>\n",
       "    </tr>\n",
       "    <tr>\n",
       "      <th>1</th>\n",
       "      <td>стеноз цикатрициал белодроб артери ворден клап...</td>\n",
       "      <td>2568</td>\n",
       "      <td>стеноз цикатрициал белодроб артери вроден клап...</td>\n",
       "      <td>[2563]</td>\n",
       "    </tr>\n",
       "    <tr>\n",
       "      <th>2</th>\n",
       "      <td>сумам калвициес ареат</td>\n",
       "      <td>3470</td>\n",
       "      <td>сумма калвициес ареат</td>\n",
       "      <td>[3471]</td>\n",
       "    </tr>\n",
       "    <tr>\n",
       "      <th>3</th>\n",
       "      <td>хронич бъбреч недсотаътчонтс i ii ст</td>\n",
       "      <td>3952</td>\n",
       "      <td>хронич бъбреч недостатъчност i ii ст</td>\n",
       "      <td>[3954]</td>\n",
       "    </tr>\n",
       "    <tr>\n",
       "      <th>4</th>\n",
       "      <td>хик дика метафисеал кондродисплазиа</td>\n",
       "      <td>5063</td>\n",
       "      <td>хик дика метафисеал кондродисплазиа</td>\n",
       "      <td>[]</td>\n",
       "    </tr>\n",
       "  </tbody>\n",
       "</table>\n",
       "</div>"
      ],
      "text/plain": [
       "                                                Text  pred_class  \\\n",
       "0                           перверз певрезрен апетит        1808   \n",
       "1  стеноз цикатрициал белодроб артери ворден клап...        2568   \n",
       "2                              сумам калвициес ареат        3470   \n",
       "3               хронич бъбреч недсотаътчонтс i ii ст        3952   \n",
       "4                хик дика метафисеал кондродисплазиа        5063   \n",
       "\n",
       "                                       original_text alt_labels  \n",
       "0                           перверз перверзен апетит     [1804]  \n",
       "1  стеноз цикатрициал белодроб артери вроден клап...     [2563]  \n",
       "2                              сумма калвициес ареат     [3471]  \n",
       "3               хронич бъбреч недостатъчност i ii ст     [3954]  \n",
       "4                хик дика метафисеал кондродисплазиа         []  "
      ]
     },
     "execution_count": 39,
     "metadata": {},
     "output_type": "execute_result"
    }
   ],
   "source": [
    "new_dev_df.head()"
   ]
  },
  {
   "cell_type": "code",
   "execution_count": 41,
   "metadata": {},
   "outputs": [],
   "source": [
    "new_dev_df.to_csv('{0}dev-4.csv'.format(BASE_PATH), header=True, index=False)"
   ]
  },
  {
   "cell_type": "code",
   "execution_count": null,
   "metadata": {},
   "outputs": [],
   "source": []
  }
 ],
 "metadata": {
  "kernelspec": {
   "display_name": "Python 3",
   "language": "python",
   "name": "python3"
  },
  "language_info": {
   "codemirror_mode": {
    "name": "ipython",
    "version": 3
   },
   "file_extension": ".py",
   "mimetype": "text/x-python",
   "name": "python",
   "nbconvert_exporter": "python",
   "pygments_lexer": "ipython3",
   "version": "3.7.6"
  }
 },
 "nbformat": 4,
 "nbformat_minor": 4
}
