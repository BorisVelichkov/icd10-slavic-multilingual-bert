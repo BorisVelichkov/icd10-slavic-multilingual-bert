{
 "cells": [
  {
   "cell_type": "code",
   "execution_count": 1,
   "metadata": {},
   "outputs": [],
   "source": [
    "BASE_PATH = '..\\\\data\\\\'\n",
    "ORIGINAL_BASE_PATH = '..\\\\data\\\\original\\\\'\n",
    "DIR_SEPARATOR = '\\\\' # /\n",
    "\n",
    "ICD10_BG_4SIGN = 'ICD10_bg_4sign.csv'\n",
    "ICD10_BG_3SIGN = 'ICD10_bg_3sign.csv'\n",
    "ICD10_ALL_4SIGN = 'ICD10_all_4sign.csv'\n",
    "ICD10_ALL_3SIGN = 'ICD10_all_3sign.csv'\n",
    "\n",
    "LABEL_COLUMN = 'ICD10'\n",
    "TEXT_COLUMN = 'Text'"
   ]
  },
  {
   "cell_type": "code",
   "execution_count": 2,
   "metadata": {},
   "outputs": [],
   "source": [
    "import pandas as pd\n",
    "from sklearn.preprocessing import LabelEncoder\n",
    "from sklearn.model_selection import train_test_split\n",
    "from pandas import DataFrame\n",
    "import numpy as np"
   ]
  },
  {
   "cell_type": "code",
   "execution_count": 3,
   "metadata": {},
   "outputs": [],
   "source": [
    "import os\n",
    "from os import path"
   ]
  },
  {
   "cell_type": "code",
   "execution_count": 8,
   "metadata": {},
   "outputs": [],
   "source": [
    "file_name = '{0}train-4.csv'.format(BASE_PATH)\n",
    "train_df = pd.read_csv(file_name)"
   ]
  },
  {
   "cell_type": "code",
   "execution_count": 9,
   "metadata": {},
   "outputs": [],
   "source": [
    "file_name = '{0}test-4.csv'.format(BASE_PATH)\n",
    "test_df = pd.read_csv(file_name)"
   ]
  },
  {
   "cell_type": "code",
   "execution_count": 13,
   "metadata": {},
   "outputs": [],
   "source": [
    "TEXT_COLUMN = 'Text'\n",
    "LABEL_COLUMN = 'ICD10'\n",
    "PRED_CLASS = 'pred_class'"
   ]
  },
  {
   "cell_type": "code",
   "execution_count": 14,
   "metadata": {},
   "outputs": [],
   "source": [
    "train_df[TEXT_COLUMN] = train_df[TEXT_COLUMN].apply(lambda x:  str(x))\n",
    "#dev_df[TEXT_COLUMN] = dev_df[TEXT_COLUMN].apply(lambda x:  str(x))\n",
    "test_df[TEXT_COLUMN] = test_df[TEXT_COLUMN].apply(lambda x:  str(x))\n",
    "\n",
    "train_df[PRED_CLASS] = train_df[PRED_CLASS].astype(int)\n",
    "#dev_df[PRED_CLASS] = dev_df[PRED_CLASS].astype(int)\n",
    "test_df[PRED_CLASS] = test_df[PRED_CLASS].astype(int)"
   ]
  },
  {
   "cell_type": "code",
   "execution_count": 15,
   "metadata": {},
   "outputs": [],
   "source": [
    "train_array = train_df[TEXT_COLUMN].to_numpy()\n",
    "test_array = test_df[TEXT_COLUMN].to_numpy()"
   ]
  },
  {
   "cell_type": "code",
   "execution_count": 16,
   "metadata": {},
   "outputs": [],
   "source": [
    "intersection_test = np.intersect1d(test_array, train_array)"
   ]
  },
  {
   "cell_type": "code",
   "execution_count": 17,
   "metadata": {},
   "outputs": [
    {
     "data": {
      "text/plain": [
       "0.7681189506188858"
      ]
     },
     "execution_count": 17,
     "metadata": {},
     "output_type": "execute_result"
    }
   ],
   "source": [
    "len(intersection_test)/len(test_array)"
   ]
  },
  {
   "cell_type": "code",
   "execution_count": 21,
   "metadata": {},
   "outputs": [
    {
     "data": {
      "text/html": [
       "<div>\n",
       "<style scoped>\n",
       "    .dataframe tbody tr th:only-of-type {\n",
       "        vertical-align: middle;\n",
       "    }\n",
       "\n",
       "    .dataframe tbody tr th {\n",
       "        vertical-align: top;\n",
       "    }\n",
       "\n",
       "    .dataframe thead th {\n",
       "        text-align: right;\n",
       "    }\n",
       "</style>\n",
       "<table border=\"1\" class=\"dataframe\">\n",
       "  <thead>\n",
       "    <tr style=\"text-align: right;\">\n",
       "      <th></th>\n",
       "      <th>Text</th>\n",
       "      <th>pred_class</th>\n",
       "    </tr>\n",
       "  </thead>\n",
       "  <tbody>\n",
       "    <tr>\n",
       "      <th>0</th>\n",
       "      <td>сурдитас x аутозома доминант дфна10</td>\n",
       "      <td>3451</td>\n",
       "    </tr>\n",
       "    <tr>\n",
       "      <th>1</th>\n",
       "      <td>свърза chs eds</td>\n",
       "      <td>7479</td>\n",
       "    </tr>\n",
       "    <tr>\n",
       "      <th>2</th>\n",
       "      <td>вулнер</td>\n",
       "      <td>7959</td>\n",
       "    </tr>\n",
       "    <tr>\n",
       "      <th>3</th>\n",
       "      <td>инфекци листери</td>\n",
       "      <td>180</td>\n",
       "    </tr>\n",
       "    <tr>\n",
       "      <th>4</th>\n",
       "      <td>неуропатиа конгенит хипомиелинатинг вел амиели...</td>\n",
       "      <td>2902</td>\n",
       "    </tr>\n",
       "  </tbody>\n",
       "</table>\n",
       "</div>"
      ],
      "text/plain": [
       "                                                Text  pred_class\n",
       "0                сурдитас x аутозома доминант дфна10        3451\n",
       "1                                     свърза chs eds        7479\n",
       "2                                             вулнер        7959\n",
       "3                                    инфекци листери         180\n",
       "4  неуропатиа конгенит хипомиелинатинг вел амиели...        2902"
      ]
     },
     "execution_count": 21,
     "metadata": {},
     "output_type": "execute_result"
    }
   ],
   "source": [
    "test_df.head()"
   ]
  },
  {
   "cell_type": "code",
   "execution_count": 18,
   "metadata": {},
   "outputs": [
    {
     "name": "stdout",
     "output_type": "stream",
     "text": [
      "Requirement already satisfied: nlpaug in c:\\users\\sylvia\\anaconda3\\lib\\site-packages (0.0.14)\n",
      "Requirement already satisfied: numpy in c:\\users\\sylvia\\anaconda3\\lib\\site-packages (1.18.0)\n",
      "Requirement already satisfied: matplotlib in c:\\users\\sylvia\\anaconda3\\lib\\site-packages (3.1.3)\n",
      "Requirement already satisfied: python-dotenv in c:\\users\\sylvia\\anaconda3\\lib\\site-packages (0.14.0)\n",
      "Requirement already satisfied: setuptools in c:\\users\\sylvia\\anaconda3\\lib\\site-packages (45.2.0.post20200210)\n",
      "Requirement already satisfied: requests in c:\\users\\sylvia\\anaconda3\\lib\\site-packages (2.22.0)\n",
      "Requirement already satisfied: cycler>=0.10 in c:\\users\\sylvia\\anaconda3\\lib\\site-packages (from matplotlib) (0.10.0)\n",
      "Requirement already satisfied: kiwisolver>=1.0.1 in c:\\users\\sylvia\\anaconda3\\lib\\site-packages (from matplotlib) (1.1.0)\n",
      "Requirement already satisfied: pyparsing!=2.0.4,!=2.1.2,!=2.1.6,>=2.0.1 in c:\\users\\sylvia\\anaconda3\\lib\\site-packages (from matplotlib) (2.4.6)\n",
      "Requirement already satisfied: python-dateutil>=2.1 in c:\\users\\sylvia\\anaconda3\\lib\\site-packages (from matplotlib) (2.8.1)\n",
      "Requirement already satisfied: chardet<3.1.0,>=3.0.2 in c:\\users\\sylvia\\anaconda3\\lib\\site-packages (from requests) (3.0.4)\n",
      "Requirement already satisfied: idna<2.9,>=2.5 in c:\\users\\sylvia\\anaconda3\\lib\\site-packages (from requests) (2.8)\n",
      "Requirement already satisfied: certifi>=2017.4.17 in c:\\users\\sylvia\\anaconda3\\lib\\site-packages (from requests) (2019.11.28)\n",
      "Requirement already satisfied: urllib3!=1.25.0,!=1.25.1,<1.26,>=1.21.1 in c:\\users\\sylvia\\anaconda3\\lib\\site-packages (from requests) (1.25.8)\n",
      "Requirement already satisfied: six in c:\\users\\sylvia\\anaconda3\\lib\\site-packages (from cycler>=0.10->matplotlib) (1.14.0)\n"
     ]
    }
   ],
   "source": [
    "!pip install nlpaug numpy matplotlib python-dotenv setuptools requests"
   ]
  },
  {
   "cell_type": "code",
   "execution_count": 19,
   "metadata": {},
   "outputs": [],
   "source": [
    "import nlpaug.augmenter.char as nac\n",
    "import nlpaug.augmenter.word as nacw"
   ]
  },
  {
   "cell_type": "code",
   "execution_count": 62,
   "metadata": {},
   "outputs": [],
   "source": [
    "def augment_text(text):\n",
    "  aug_char = nac.RandomCharAug(action=\"swap\", aug_char_min=1, min_char=1)\n",
    "  aug_char2 = nac.RandomCharAug(action=\"insert\", aug_char_min=1, min_char=1)\n",
    "  aug_word = nacw.RandomWordAug(action=\"swap\")\n",
    "  tokens = text.split(' ')\n",
    "  tokens_len = len(tokens)\n",
    "\n",
    "  if len(text) == 1:\n",
    "    augmented_text = text\n",
    "  elif tokens_len == 1:\n",
    "    try:      \n",
    "      augmented_text = aug_char.augment(text)\n",
    "    except:\n",
    "      augmented_text = text\n",
    "  else:    \n",
    "    augmented_text = aug_word.augment(text)\n",
    "\n",
    "  if augmented_text == text:\n",
    "    augmented_text = aug_char2.augment(augmented_text)\n",
    "\n",
    "  return augmented_text"
   ]
  },
  {
   "cell_type": "code",
   "execution_count": 63,
   "metadata": {},
   "outputs": [
    {
     "data": {
      "text/plain": [
       "'атз'"
      ]
     },
     "execution_count": 63,
     "metadata": {},
     "output_type": "execute_result"
    }
   ],
   "source": [
    "augment_text('таз')"
   ]
  },
  {
   "cell_type": "code",
   "execution_count": 64,
   "metadata": {},
   "outputs": [
    {
     "data": {
      "text/plain": [
       "'сурдитас x аутозома дфна10 доминант'"
      ]
     },
     "execution_count": 64,
     "metadata": {},
     "output_type": "execute_result"
    }
   ],
   "source": [
    "augment_text('сурдитас x аутозома доминант дфна10')"
   ]
  },
  {
   "cell_type": "code",
   "execution_count": 65,
   "metadata": {},
   "outputs": [
    {
     "data": {
      "text/plain": [
       "True"
      ]
     },
     "execution_count": 65,
     "metadata": {},
     "output_type": "execute_result"
    }
   ],
   "source": [
    "'сурдитас x аутозома доминант дфна10' in test_array"
   ]
  },
  {
   "cell_type": "code",
   "execution_count": 66,
   "metadata": {},
   "outputs": [],
   "source": [
    "new_test_df = pd.DataFrame({\n",
    "        TEXT_COLUMN:test_df[TEXT_COLUMN].apply(lambda x: augment_text(x) if x in test_array else x),\n",
    "        LABEL_COLUMN:test_df[PRED_CLASS],\n",
    "        'OLD_TEXT':test_df[TEXT_COLUMN]\n",
    "        })"
   ]
  },
  {
   "cell_type": "code",
   "execution_count": 67,
   "metadata": {},
   "outputs": [],
   "source": [
    "new_test_array = new_test_df[TEXT_COLUMN].to_numpy()"
   ]
  },
  {
   "cell_type": "code",
   "execution_count": 68,
   "metadata": {},
   "outputs": [],
   "source": [
    "intersection_new_test = np.intersect1d(new_test_array, train_array)"
   ]
  },
  {
   "cell_type": "code",
   "execution_count": 69,
   "metadata": {},
   "outputs": [
    {
     "data": {
      "text/plain": [
       "0.021745335651451852"
      ]
     },
     "execution_count": 69,
     "metadata": {},
     "output_type": "execute_result"
    }
   ],
   "source": [
    "len(intersection_new_test)/len(new_test_array)"
   ]
  },
  {
   "cell_type": "code",
   "execution_count": 71,
   "metadata": {},
   "outputs": [],
   "source": [
    "new_test_df.to_csv('{0}new-test-4.csv'.format(BASE_PATH), header=True, index=False)"
   ]
  },
  {
   "cell_type": "code",
   "execution_count": null,
   "metadata": {},
   "outputs": [],
   "source": []
  }
 ],
 "metadata": {
  "kernelspec": {
   "display_name": "Python 3",
   "language": "python",
   "name": "python3"
  },
  "language_info": {
   "codemirror_mode": {
    "name": "ipython",
    "version": 3
   },
   "file_extension": ".py",
   "mimetype": "text/x-python",
   "name": "python",
   "nbconvert_exporter": "python",
   "pygments_lexer": "ipython3",
   "version": "3.7.6"
  }
 },
 "nbformat": 4,
 "nbformat_minor": 4
}
