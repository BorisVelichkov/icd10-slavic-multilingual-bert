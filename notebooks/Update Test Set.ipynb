{
 "cells": [
  {
   "cell_type": "code",
   "execution_count": 1,
   "metadata": {},
   "outputs": [],
   "source": [
    "BASE_PATH = '..\\\\data\\\\'\n",
    "ORIGINAL_BASE_PATH = '..\\\\data\\\\original\\\\'\n",
    "DIR_SEPARATOR = '\\\\' # /\n",
    "\n",
    "LABEL_COLUMN = 'ICD10'\n",
    "TEXT_COLUMN = 'Text'\n",
    "PRED_CLASS = 'pred_class'\n",
    "ORIGINAL_TEXT = 'original_text'\n",
    "ALT_LABELS = 'alt_labels'"
   ]
  },
  {
   "cell_type": "code",
   "execution_count": 2,
   "metadata": {},
   "outputs": [],
   "source": [
    "import pandas as pd\n",
    "from sklearn.preprocessing import LabelEncoder\n",
    "from sklearn.model_selection import train_test_split\n",
    "from pandas import DataFrame\n",
    "import numpy as np"
   ]
  },
  {
   "cell_type": "code",
   "execution_count": 3,
   "metadata": {},
   "outputs": [],
   "source": [
    "import os\n",
    "from os import path"
   ]
  },
  {
   "cell_type": "code",
   "execution_count": 4,
   "metadata": {},
   "outputs": [],
   "source": [
    "file_name = '{0}train-4.csv'.format(BASE_PATH)\n",
    "train_df = pd.read_csv(file_name)"
   ]
  },
  {
   "cell_type": "code",
   "execution_count": 5,
   "metadata": {},
   "outputs": [],
   "source": [
    "file_name = '{0}test-4.csv'.format(BASE_PATH)\n",
    "test_df = pd.read_csv(file_name)"
   ]
  },
  {
   "cell_type": "code",
   "execution_count": 6,
   "metadata": {},
   "outputs": [],
   "source": [
    "file_name = '{0}dev-4.csv'.format(BASE_PATH)\n",
    "dev_df = pd.read_csv(file_name)"
   ]
  },
  {
   "cell_type": "code",
   "execution_count": 7,
   "metadata": {},
   "outputs": [],
   "source": [
    "train_df[TEXT_COLUMN] = train_df[TEXT_COLUMN].apply(lambda x:  str(x))\n",
    "dev_df[TEXT_COLUMN] = dev_df[TEXT_COLUMN].apply(lambda x:  str(x))\n",
    "test_df[TEXT_COLUMN] = test_df[TEXT_COLUMN].apply(lambda x:  str(x))"
   ]
  },
  {
   "cell_type": "code",
   "execution_count": 8,
   "metadata": {},
   "outputs": [
    {
     "data": {
      "text/html": [
       "<div>\n",
       "<style scoped>\n",
       "    .dataframe tbody tr th:only-of-type {\n",
       "        vertical-align: middle;\n",
       "    }\n",
       "\n",
       "    .dataframe tbody tr th {\n",
       "        vertical-align: top;\n",
       "    }\n",
       "\n",
       "    .dataframe thead th {\n",
       "        text-align: right;\n",
       "    }\n",
       "</style>\n",
       "<table border=\"1\" class=\"dataframe\">\n",
       "  <thead>\n",
       "    <tr style=\"text-align: right;\">\n",
       "      <th></th>\n",
       "      <th>Text</th>\n",
       "      <th>pred_class</th>\n",
       "    </tr>\n",
       "  </thead>\n",
       "  <tbody>\n",
       "    <tr>\n",
       "      <th>0</th>\n",
       "      <td>ентеровирус инфекци неуточн</td>\n",
       "      <td>425</td>\n",
       "    </tr>\n",
       "    <tr>\n",
       "      <th>1</th>\n",
       "      <td>плацен плацентар абнормн анома</td>\n",
       "      <td>4323</td>\n",
       "    </tr>\n",
       "    <tr>\n",
       "      <th>2</th>\n",
       "      <td>болест забол плацен уврежда плода новород</td>\n",
       "      <td>4474</td>\n",
       "    </tr>\n",
       "    <tr>\n",
       "      <th>3</th>\n",
       "      <td>артери коронари синист аномали н инординацио</td>\n",
       "      <td>4766</td>\n",
       "    </tr>\n",
       "    <tr>\n",
       "      <th>4</th>\n",
       "      <td>disci intervertebralis inflammatione</td>\n",
       "      <td>3726</td>\n",
       "    </tr>\n",
       "  </tbody>\n",
       "</table>\n",
       "</div>"
      ],
      "text/plain": [
       "                                           Text  pred_class\n",
       "0                   ентеровирус инфекци неуточн         425\n",
       "1                плацен плацентар абнормн анома        4323\n",
       "2     болест забол плацен уврежда плода новород        4474\n",
       "3  артери коронари синист аномали н инординацио        4766\n",
       "4          disci intervertebralis inflammatione        3726"
      ]
     },
     "execution_count": 8,
     "metadata": {},
     "output_type": "execute_result"
    }
   ],
   "source": [
    "dev_df.head()"
   ]
  },
  {
   "cell_type": "code",
   "execution_count": 35,
   "metadata": {},
   "outputs": [],
   "source": [
    "train_array = train_df[TEXT_COLUMN].to_numpy()\n",
    "test_array = test_df[TEXT_COLUMN].to_numpy()\n",
    "dev_array = dev_df[TEXT_COLUMN].to_numpy()"
   ]
  },
  {
   "cell_type": "code",
   "execution_count": 36,
   "metadata": {},
   "outputs": [],
   "source": [
    "intersection_test = np.intersect1d(test_array, train_array)"
   ]
  },
  {
   "cell_type": "code",
   "execution_count": 37,
   "metadata": {},
   "outputs": [],
   "source": [
    "intersection_dev = np.intersect1d(dev_array, train_array)"
   ]
  },
  {
   "cell_type": "code",
   "execution_count": 38,
   "metadata": {},
   "outputs": [
    {
     "data": {
      "text/plain": [
       "0.7223299285280246"
      ]
     },
     "execution_count": 38,
     "metadata": {},
     "output_type": "execute_result"
    }
   ],
   "source": [
    "len(intersection_test)/len(test_array)"
   ]
  },
  {
   "cell_type": "code",
   "execution_count": 39,
   "metadata": {},
   "outputs": [
    {
     "data": {
      "text/plain": [
       "0.72451991932891"
      ]
     },
     "execution_count": 39,
     "metadata": {},
     "output_type": "execute_result"
    }
   ],
   "source": [
    "len(intersection_dev)/len(dev_array)"
   ]
  },
  {
   "cell_type": "code",
   "execution_count": 14,
   "metadata": {},
   "outputs": [
    {
     "data": {
      "text/html": [
       "<div>\n",
       "<style scoped>\n",
       "    .dataframe tbody tr th:only-of-type {\n",
       "        vertical-align: middle;\n",
       "    }\n",
       "\n",
       "    .dataframe tbody tr th {\n",
       "        vertical-align: top;\n",
       "    }\n",
       "\n",
       "    .dataframe thead th {\n",
       "        text-align: right;\n",
       "    }\n",
       "</style>\n",
       "<table border=\"1\" class=\"dataframe\">\n",
       "  <thead>\n",
       "    <tr style=\"text-align: right;\">\n",
       "      <th></th>\n",
       "      <th>Text</th>\n",
       "      <th>pred_class</th>\n",
       "    </tr>\n",
       "  </thead>\n",
       "  <tbody>\n",
       "    <tr>\n",
       "      <th>0</th>\n",
       "      <td>синдром бехчет</td>\n",
       "      <td>3702</td>\n",
       "    </tr>\n",
       "    <tr>\n",
       "      <th>1</th>\n",
       "      <td>infundibulo neurohypophysitis</td>\n",
       "      <td>1465</td>\n",
       "    </tr>\n",
       "    <tr>\n",
       "      <th>2</th>\n",
       "      <td>карцином 3 неинфилтрира 2 лобулар 2 млечн жлеза</td>\n",
       "      <td>1069</td>\n",
       "    </tr>\n",
       "    <tr>\n",
       "      <th>3</th>\n",
       "      <td>криптоспоридиозис</td>\n",
       "      <td>44</td>\n",
       "    </tr>\n",
       "    <tr>\n",
       "      <th>4</th>\n",
       "      <td>tumor ex maligno feminam generatiua ratio</td>\n",
       "      <td>882</td>\n",
       "    </tr>\n",
       "  </tbody>\n",
       "</table>\n",
       "</div>"
      ],
      "text/plain": [
       "                                              Text  pred_class\n",
       "0                                   синдром бехчет        3702\n",
       "1                    infundibulo neurohypophysitis        1465\n",
       "2  карцином 3 неинфилтрира 2 лобулар 2 млечн жлеза        1069\n",
       "3                                криптоспоридиозис          44\n",
       "4        tumor ex maligno feminam generatiua ratio         882"
      ]
     },
     "execution_count": 14,
     "metadata": {},
     "output_type": "execute_result"
    }
   ],
   "source": [
    "test_df.head()"
   ]
  },
  {
   "cell_type": "code",
   "execution_count": 15,
   "metadata": {},
   "outputs": [],
   "source": [
    "df_train_dev = pd.concat([train_df, dev_df])\n",
    "label_groups = df_train_dev.groupby(TEXT_COLUMN)\n",
    "alt_labels_df = label_groups[PRED_CLASS].apply(lambda x: x.values).reset_index()\n",
    "alt_labels_df.set_index(TEXT_COLUMN, inplace=True)"
   ]
  },
  {
   "cell_type": "code",
   "execution_count": 16,
   "metadata": {},
   "outputs": [
    {
     "data": {
      "text/html": [
       "<div>\n",
       "<style scoped>\n",
       "    .dataframe tbody tr th:only-of-type {\n",
       "        vertical-align: middle;\n",
       "    }\n",
       "\n",
       "    .dataframe tbody tr th {\n",
       "        vertical-align: top;\n",
       "    }\n",
       "\n",
       "    .dataframe thead th {\n",
       "        text-align: right;\n",
       "    }\n",
       "</style>\n",
       "<table border=\"1\" class=\"dataframe\">\n",
       "  <thead>\n",
       "    <tr style=\"text-align: right;\">\n",
       "      <th></th>\n",
       "      <th>pred_class</th>\n",
       "    </tr>\n",
       "    <tr>\n",
       "      <th>Text</th>\n",
       "      <th></th>\n",
       "    </tr>\n",
       "  </thead>\n",
       "  <tbody>\n",
       "    <tr>\n",
       "      <th>0 genus cpam</th>\n",
       "      <td>[4819, 4820]</td>\n",
       "    </tr>\n",
       "    <tr>\n",
       "      <th>0 genus laryngotracheoesophageal vehementissimo imbri</th>\n",
       "      <td>[4816, 4817]</td>\n",
       "    </tr>\n",
       "    <tr>\n",
       "      <th>0 genus morbo glycogen repono</th>\n",
       "      <td>[1593, 1594]</td>\n",
       "    </tr>\n",
       "    <tr>\n",
       "      <th>0 reipublic s a carcinomate firmo nexu fulcit</th>\n",
       "      <td>[1041, 1039]</td>\n",
       "    </tr>\n",
       "    <tr>\n",
       "      <th>0 scaena pulmonis carcinoma</th>\n",
       "      <td>[1051]</td>\n",
       "    </tr>\n",
       "  </tbody>\n",
       "</table>\n",
       "</div>"
      ],
      "text/plain": [
       "                                                      pred_class\n",
       "Text                                                            \n",
       "0 genus cpam                                        [4819, 4820]\n",
       "0 genus laryngotracheoesophageal vehementissimo...  [4816, 4817]\n",
       "0 genus morbo glycogen repono                       [1593, 1594]\n",
       "0 reipublic s a carcinomate firmo nexu fulcit       [1041, 1039]\n",
       "0 scaena pulmonis carcinoma                               [1051]"
      ]
     },
     "execution_count": 16,
     "metadata": {},
     "output_type": "execute_result"
    }
   ],
   "source": [
    "alt_labels_df.head()"
   ]
  },
  {
   "cell_type": "code",
   "execution_count": 17,
   "metadata": {},
   "outputs": [],
   "source": [
    "label_groups_train = train_df.groupby(TEXT_COLUMN)\n",
    "alt_labels_train_df = label_groups_train[PRED_CLASS].apply(lambda x: x.values).reset_index()\n",
    "alt_labels_train_df.set_index(TEXT_COLUMN, inplace=True)"
   ]
  },
  {
   "cell_type": "code",
   "execution_count": 18,
   "metadata": {},
   "outputs": [
    {
     "data": {
      "text/html": [
       "<div>\n",
       "<style scoped>\n",
       "    .dataframe tbody tr th:only-of-type {\n",
       "        vertical-align: middle;\n",
       "    }\n",
       "\n",
       "    .dataframe tbody tr th {\n",
       "        vertical-align: top;\n",
       "    }\n",
       "\n",
       "    .dataframe thead th {\n",
       "        text-align: right;\n",
       "    }\n",
       "</style>\n",
       "<table border=\"1\" class=\"dataframe\">\n",
       "  <thead>\n",
       "    <tr style=\"text-align: right;\">\n",
       "      <th></th>\n",
       "      <th>pred_class</th>\n",
       "    </tr>\n",
       "    <tr>\n",
       "      <th>Text</th>\n",
       "      <th></th>\n",
       "    </tr>\n",
       "  </thead>\n",
       "  <tbody>\n",
       "    <tr>\n",
       "      <th>0 genus cpam</th>\n",
       "      <td>[4819, 4820]</td>\n",
       "    </tr>\n",
       "    <tr>\n",
       "      <th>0 genus laryngotracheoesophageal vehementissimo imbri</th>\n",
       "      <td>[4816, 4817]</td>\n",
       "    </tr>\n",
       "    <tr>\n",
       "      <th>0 genus morbo glycogen repono</th>\n",
       "      <td>[1593]</td>\n",
       "    </tr>\n",
       "    <tr>\n",
       "      <th>0 reipublic s a carcinomate firmo nexu fulcit</th>\n",
       "      <td>[1041, 1039]</td>\n",
       "    </tr>\n",
       "    <tr>\n",
       "      <th>0 scaena pulmonis carcinoma</th>\n",
       "      <td>[1051]</td>\n",
       "    </tr>\n",
       "  </tbody>\n",
       "</table>\n",
       "</div>"
      ],
      "text/plain": [
       "                                                      pred_class\n",
       "Text                                                            \n",
       "0 genus cpam                                        [4819, 4820]\n",
       "0 genus laryngotracheoesophageal vehementissimo...  [4816, 4817]\n",
       "0 genus morbo glycogen repono                             [1593]\n",
       "0 reipublic s a carcinomate firmo nexu fulcit       [1041, 1039]\n",
       "0 scaena pulmonis carcinoma                               [1051]"
      ]
     },
     "execution_count": 18,
     "metadata": {},
     "output_type": "execute_result"
    }
   ],
   "source": [
    "alt_labels_train_df.head()"
   ]
  },
  {
   "cell_type": "code",
   "execution_count": 19,
   "metadata": {},
   "outputs": [],
   "source": [
    "def get_alt_labels(text, current_df, alt_df):\n",
    "  if text in alt_df.index:\n",
    "    labels = alt_df.at[text, PRED_CLASS]\n",
    "    return labels\n",
    "  return []"
   ]
  },
  {
   "cell_type": "code",
   "execution_count": 22,
   "metadata": {},
   "outputs": [
    {
     "data": {
      "text/plain": [
       "array([4819, 4820], dtype=int64)"
      ]
     },
     "execution_count": 22,
     "metadata": {},
     "output_type": "execute_result"
    }
   ],
   "source": [
    "get_alt_labels('0 genus cpam', test_df, alt_labels_df)"
   ]
  },
  {
   "cell_type": "code",
   "execution_count": 24,
   "metadata": {},
   "outputs": [],
   "source": [
    "test_df[ALT_LABELS] = test_df[TEXT_COLUMN].apply(lambda x: get_alt_labels(x, test_df, alt_labels_df))"
   ]
  },
  {
   "cell_type": "code",
   "execution_count": 25,
   "metadata": {},
   "outputs": [],
   "source": [
    "test_df[TEXT_COLUMN] = test_df[TEXT_COLUMN].str.lower()"
   ]
  },
  {
   "cell_type": "code",
   "execution_count": 26,
   "metadata": {},
   "outputs": [
    {
     "data": {
      "text/html": [
       "<div>\n",
       "<style scoped>\n",
       "    .dataframe tbody tr th:only-of-type {\n",
       "        vertical-align: middle;\n",
       "    }\n",
       "\n",
       "    .dataframe tbody tr th {\n",
       "        vertical-align: top;\n",
       "    }\n",
       "\n",
       "    .dataframe thead th {\n",
       "        text-align: right;\n",
       "    }\n",
       "</style>\n",
       "<table border=\"1\" class=\"dataframe\">\n",
       "  <thead>\n",
       "    <tr style=\"text-align: right;\">\n",
       "      <th></th>\n",
       "      <th>Text</th>\n",
       "      <th>pred_class</th>\n",
       "      <th>alt_labels</th>\n",
       "    </tr>\n",
       "  </thead>\n",
       "  <tbody>\n",
       "    <tr>\n",
       "      <th>0</th>\n",
       "      <td>синдром бехчет</td>\n",
       "      <td>3702</td>\n",
       "      <td>[3705]</td>\n",
       "    </tr>\n",
       "    <tr>\n",
       "      <th>1</th>\n",
       "      <td>infundibulo neurohypophysitis</td>\n",
       "      <td>1465</td>\n",
       "      <td>[1460]</td>\n",
       "    </tr>\n",
       "    <tr>\n",
       "      <th>2</th>\n",
       "      <td>карцином 3 неинфилтрира 2 лобулар 2 млечн жлеза</td>\n",
       "      <td>1069</td>\n",
       "      <td>[1068]</td>\n",
       "    </tr>\n",
       "    <tr>\n",
       "      <th>3</th>\n",
       "      <td>криптоспоридиозис</td>\n",
       "      <td>44</td>\n",
       "      <td>[47]</td>\n",
       "    </tr>\n",
       "    <tr>\n",
       "      <th>4</th>\n",
       "      <td>tumor ex maligno feminam generatiua ratio</td>\n",
       "      <td>882</td>\n",
       "      <td>[862]</td>\n",
       "    </tr>\n",
       "  </tbody>\n",
       "</table>\n",
       "</div>"
      ],
      "text/plain": [
       "                                              Text  pred_class alt_labels\n",
       "0                                   синдром бехчет        3702     [3705]\n",
       "1                    infundibulo neurohypophysitis        1465     [1460]\n",
       "2  карцином 3 неинфилтрира 2 лобулар 2 млечн жлеза        1069     [1068]\n",
       "3                                криптоспоридиозис          44       [47]\n",
       "4        tumor ex maligno feminam generatiua ratio         882      [862]"
      ]
     },
     "execution_count": 26,
     "metadata": {},
     "output_type": "execute_result"
    }
   ],
   "source": [
    "test_df.head()"
   ]
  },
  {
   "cell_type": "code",
   "execution_count": 27,
   "metadata": {},
   "outputs": [],
   "source": [
    "test_df.to_csv('{0}test-4.csv'.format(BASE_PATH), header=True, index=False)"
   ]
  },
  {
   "cell_type": "code",
   "execution_count": 28,
   "metadata": {},
   "outputs": [],
   "source": [
    "dev_df[ALT_LABELS] = dev_df[TEXT_COLUMN].apply(lambda x: get_alt_labels(x, dev_df, alt_labels_train_df))"
   ]
  },
  {
   "cell_type": "code",
   "execution_count": 29,
   "metadata": {},
   "outputs": [],
   "source": [
    "dev_df[TEXT_COLUMN] = dev_df[TEXT_COLUMN].str.lower()"
   ]
  },
  {
   "cell_type": "code",
   "execution_count": 30,
   "metadata": {},
   "outputs": [],
   "source": [
    "dev_df.to_csv('{0}dev-4.csv'.format(BASE_PATH), header=True, index=False)"
   ]
  },
  {
   "cell_type": "code",
   "execution_count": 31,
   "metadata": {},
   "outputs": [
    {
     "data": {
      "text/html": [
       "<div>\n",
       "<style scoped>\n",
       "    .dataframe tbody tr th:only-of-type {\n",
       "        vertical-align: middle;\n",
       "    }\n",
       "\n",
       "    .dataframe tbody tr th {\n",
       "        vertical-align: top;\n",
       "    }\n",
       "\n",
       "    .dataframe thead th {\n",
       "        text-align: right;\n",
       "    }\n",
       "</style>\n",
       "<table border=\"1\" class=\"dataframe\">\n",
       "  <thead>\n",
       "    <tr style=\"text-align: right;\">\n",
       "      <th></th>\n",
       "      <th>Text</th>\n",
       "      <th>pred_class</th>\n",
       "      <th>alt_labels</th>\n",
       "    </tr>\n",
       "  </thead>\n",
       "  <tbody>\n",
       "    <tr>\n",
       "      <th>0</th>\n",
       "      <td>ентеровирус инфекци неуточн</td>\n",
       "      <td>425</td>\n",
       "      <td>[424]</td>\n",
       "    </tr>\n",
       "    <tr>\n",
       "      <th>1</th>\n",
       "      <td>плацен плацентар абнормн анома</td>\n",
       "      <td>4323</td>\n",
       "      <td>[4325]</td>\n",
       "    </tr>\n",
       "    <tr>\n",
       "      <th>2</th>\n",
       "      <td>болест забол плацен уврежда плода новород</td>\n",
       "      <td>4474</td>\n",
       "      <td>[4477]</td>\n",
       "    </tr>\n",
       "    <tr>\n",
       "      <th>3</th>\n",
       "      <td>артери коронари синист аномали н инординацио</td>\n",
       "      <td>4766</td>\n",
       "      <td>[4760]</td>\n",
       "    </tr>\n",
       "    <tr>\n",
       "      <th>4</th>\n",
       "      <td>disci intervertebralis inflammatione</td>\n",
       "      <td>3726</td>\n",
       "      <td>[3728]</td>\n",
       "    </tr>\n",
       "  </tbody>\n",
       "</table>\n",
       "</div>"
      ],
      "text/plain": [
       "                                           Text  pred_class alt_labels\n",
       "0                   ентеровирус инфекци неуточн         425      [424]\n",
       "1                плацен плацентар абнормн анома        4323     [4325]\n",
       "2     болест забол плацен уврежда плода новород        4474     [4477]\n",
       "3  артери коронари синист аномали н инординацио        4766     [4760]\n",
       "4          disci intervertebralis inflammatione        3726     [3728]"
      ]
     },
     "execution_count": 31,
     "metadata": {},
     "output_type": "execute_result"
    }
   ],
   "source": [
    "dev_df.head()"
   ]
  },
  {
   "cell_type": "code",
   "execution_count": 32,
   "metadata": {},
   "outputs": [],
   "source": [
    "train_df[TEXT_COLUMN] = train_df[TEXT_COLUMN].str.lower()"
   ]
  },
  {
   "cell_type": "code",
   "execution_count": 33,
   "metadata": {},
   "outputs": [],
   "source": [
    "train_df.to_csv('{0}train-4.csv'.format(BASE_PATH), header=True, index=False)"
   ]
  },
  {
   "cell_type": "code",
   "execution_count": 44,
   "metadata": {},
   "outputs": [],
   "source": [
    "train_df = train_df.reindex(train_df.columns.tolist() + [ALT_LABELS], axis=1)"
   ]
  },
  {
   "cell_type": "code",
   "execution_count": 45,
   "metadata": {},
   "outputs": [
    {
     "data": {
      "text/html": [
       "<div>\n",
       "<style scoped>\n",
       "    .dataframe tbody tr th:only-of-type {\n",
       "        vertical-align: middle;\n",
       "    }\n",
       "\n",
       "    .dataframe tbody tr th {\n",
       "        vertical-align: top;\n",
       "    }\n",
       "\n",
       "    .dataframe thead th {\n",
       "        text-align: right;\n",
       "    }\n",
       "</style>\n",
       "<table border=\"1\" class=\"dataframe\">\n",
       "  <thead>\n",
       "    <tr style=\"text-align: right;\">\n",
       "      <th></th>\n",
       "      <th>Text</th>\n",
       "      <th>pred_class</th>\n",
       "      <th>alt_labels</th>\n",
       "    </tr>\n",
       "  </thead>\n",
       "  <tbody>\n",
       "    <tr>\n",
       "      <th>0</th>\n",
       "      <td>гоноко гонококов болест инфекци анус</td>\n",
       "      <td>211</td>\n",
       "      <td>NaN</td>\n",
       "    </tr>\n",
       "    <tr>\n",
       "      <th>1</th>\n",
       "      <td>alius originem arteriae pulmonalis tendit</td>\n",
       "      <td>4778</td>\n",
       "      <td>NaN</td>\n",
       "    </tr>\n",
       "    <tr>\n",
       "      <th>2</th>\n",
       "      <td>карцином 3 жлъчен кана 3 черен дроб</td>\n",
       "      <td>757</td>\n",
       "      <td>NaN</td>\n",
       "    </tr>\n",
       "    <tr>\n",
       "      <th>3</th>\n",
       "      <td>злокачеств тумор разстройств предни етаж уст</td>\n",
       "      <td>674</td>\n",
       "      <td>NaN</td>\n",
       "    </tr>\n",
       "    <tr>\n",
       "      <th>4</th>\n",
       "      <td>леукемоид реакци</td>\n",
       "      <td>1324</td>\n",
       "      <td>NaN</td>\n",
       "    </tr>\n",
       "  </tbody>\n",
       "</table>\n",
       "</div>"
      ],
      "text/plain": [
       "                                           Text  pred_class  alt_labels\n",
       "0          гоноко гонококов болест инфекци анус         211         NaN\n",
       "1     alius originem arteriae pulmonalis tendit        4778         NaN\n",
       "2           карцином 3 жлъчен кана 3 черен дроб         757         NaN\n",
       "3  злокачеств тумор разстройств предни етаж уст         674         NaN\n",
       "4                              леукемоид реакци        1324         NaN"
      ]
     },
     "execution_count": 45,
     "metadata": {},
     "output_type": "execute_result"
    }
   ],
   "source": [
    "train_df.head()"
   ]
  },
  {
   "cell_type": "code",
   "execution_count": 46,
   "metadata": {},
   "outputs": [],
   "source": [
    "full_df = pd.concat([train_df, dev_df, test_df])"
   ]
  },
  {
   "cell_type": "code",
   "execution_count": 47,
   "metadata": {},
   "outputs": [
    {
     "data": {
      "text/html": [
       "<div>\n",
       "<style scoped>\n",
       "    .dataframe tbody tr th:only-of-type {\n",
       "        vertical-align: middle;\n",
       "    }\n",
       "\n",
       "    .dataframe tbody tr th {\n",
       "        vertical-align: top;\n",
       "    }\n",
       "\n",
       "    .dataframe thead th {\n",
       "        text-align: right;\n",
       "    }\n",
       "</style>\n",
       "<table border=\"1\" class=\"dataframe\">\n",
       "  <thead>\n",
       "    <tr style=\"text-align: right;\">\n",
       "      <th></th>\n",
       "      <th>Text</th>\n",
       "      <th>pred_class</th>\n",
       "      <th>alt_labels</th>\n",
       "    </tr>\n",
       "  </thead>\n",
       "  <tbody>\n",
       "    <tr>\n",
       "      <th>0</th>\n",
       "      <td>гоноко гонококов болест инфекци анус</td>\n",
       "      <td>211</td>\n",
       "      <td>NaN</td>\n",
       "    </tr>\n",
       "    <tr>\n",
       "      <th>1</th>\n",
       "      <td>alius originem arteriae pulmonalis tendit</td>\n",
       "      <td>4778</td>\n",
       "      <td>NaN</td>\n",
       "    </tr>\n",
       "    <tr>\n",
       "      <th>2</th>\n",
       "      <td>карцином 3 жлъчен кана 3 черен дроб</td>\n",
       "      <td>757</td>\n",
       "      <td>NaN</td>\n",
       "    </tr>\n",
       "    <tr>\n",
       "      <th>3</th>\n",
       "      <td>злокачеств тумор разстройств предни етаж уст</td>\n",
       "      <td>674</td>\n",
       "      <td>NaN</td>\n",
       "    </tr>\n",
       "    <tr>\n",
       "      <th>4</th>\n",
       "      <td>леукемоид реакци</td>\n",
       "      <td>1324</td>\n",
       "      <td>NaN</td>\n",
       "    </tr>\n",
       "  </tbody>\n",
       "</table>\n",
       "</div>"
      ],
      "text/plain": [
       "                                           Text  pred_class alt_labels\n",
       "0          гоноко гонококов болест инфекци анус         211        NaN\n",
       "1     alius originem arteriae pulmonalis tendit        4778        NaN\n",
       "2           карцином 3 жлъчен кана 3 черен дроб         757        NaN\n",
       "3  злокачеств тумор разстройств предни етаж уст         674        NaN\n",
       "4                              леукемоид реакци        1324        NaN"
      ]
     },
     "execution_count": 47,
     "metadata": {},
     "output_type": "execute_result"
    }
   ],
   "source": [
    "full_df.head()"
   ]
  },
  {
   "cell_type": "code",
   "execution_count": 48,
   "metadata": {},
   "outputs": [],
   "source": [
    "full_df.to_csv('{0}dataset-full-4.csv'.format(BASE_PATH), header=True, index=False)"
   ]
  },
  {
   "cell_type": "code",
   "execution_count": null,
   "metadata": {},
   "outputs": [],
   "source": []
  }
 ],
 "metadata": {
  "kernelspec": {
   "display_name": "Python 3",
   "language": "python",
   "name": "python3"
  },
  "language_info": {
   "codemirror_mode": {
    "name": "ipython",
    "version": 3
   },
   "file_extension": ".py",
   "mimetype": "text/x-python",
   "name": "python",
   "nbconvert_exporter": "python",
   "pygments_lexer": "ipython3",
   "version": "3.7.6"
  }
 },
 "nbformat": 4,
 "nbformat_minor": 4
}
